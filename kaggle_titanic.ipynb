{
 "cells": [
  {
   "cell_type": "markdown",
   "metadata": {},
   "source": [
    "### kaggle Titanic dataset deep learning"
   ]
  },
  {
   "cell_type": "code",
   "execution_count": 26,
   "metadata": {
    "ExecuteTime": {
     "end_time": "2020-08-30T02:01:47.474867Z",
     "start_time": "2020-08-30T02:01:47.465013Z"
    }
   },
   "outputs": [],
   "source": [
    "import functools\n",
    "import tensorflow as tf\n",
    "tf.test.is_gpu_available() #https://github.com/tensorflow/tensorflow/issues/38194\n",
    "import numpy as np\n",
    "import tensorflow_datasets as tfds\n",
    "import pandas as pd"
   ]
  },
  {
   "cell_type": "code",
   "execution_count": 27,
   "metadata": {
    "ExecuteTime": {
     "end_time": "2020-08-30T02:01:47.513723Z",
     "start_time": "2020-08-30T02:01:47.477096Z"
    }
   },
   "outputs": [],
   "source": [
    "TRAIN_DATA_PATH = \"./data/train.csv\"\n",
    "TEST_DATA_PATH = \"./data/test.csv\"\n",
    "\n",
    "train_data = pd.read_csv(TRAIN_DATA_PATH, header=0)\n",
    "test_data = pd.read_csv(TEST_DATA_PATH, header=0)"
   ]
  },
  {
   "cell_type": "code",
   "execution_count": 28,
   "metadata": {
    "ExecuteTime": {
     "end_time": "2020-08-30T02:01:47.531285Z",
     "start_time": "2020-08-30T02:01:47.516254Z"
    }
   },
   "outputs": [
    {
     "data": {
      "text/html": [
       "<div>\n",
       "<style scoped>\n",
       "    .dataframe tbody tr th:only-of-type {\n",
       "        vertical-align: middle;\n",
       "    }\n",
       "\n",
       "    .dataframe tbody tr th {\n",
       "        vertical-align: top;\n",
       "    }\n",
       "\n",
       "    .dataframe thead th {\n",
       "        text-align: right;\n",
       "    }\n",
       "</style>\n",
       "<table border=\"1\" class=\"dataframe\">\n",
       "  <thead>\n",
       "    <tr style=\"text-align: right;\">\n",
       "      <th></th>\n",
       "      <th>PassengerId</th>\n",
       "      <th>Survived</th>\n",
       "      <th>Pclass</th>\n",
       "      <th>Name</th>\n",
       "      <th>Sex</th>\n",
       "      <th>Age</th>\n",
       "      <th>SibSp</th>\n",
       "      <th>Parch</th>\n",
       "      <th>Ticket</th>\n",
       "      <th>Fare</th>\n",
       "      <th>Cabin</th>\n",
       "      <th>Embarked</th>\n",
       "    </tr>\n",
       "  </thead>\n",
       "  <tbody>\n",
       "    <tr>\n",
       "      <th>0</th>\n",
       "      <td>1</td>\n",
       "      <td>0</td>\n",
       "      <td>3</td>\n",
       "      <td>Braund, Mr. Owen Harris</td>\n",
       "      <td>male</td>\n",
       "      <td>22.0</td>\n",
       "      <td>1</td>\n",
       "      <td>0</td>\n",
       "      <td>A/5 21171</td>\n",
       "      <td>7.2500</td>\n",
       "      <td>NaN</td>\n",
       "      <td>S</td>\n",
       "    </tr>\n",
       "    <tr>\n",
       "      <th>1</th>\n",
       "      <td>2</td>\n",
       "      <td>1</td>\n",
       "      <td>1</td>\n",
       "      <td>Cumings, Mrs. John Bradley (Florence Briggs Th...</td>\n",
       "      <td>female</td>\n",
       "      <td>38.0</td>\n",
       "      <td>1</td>\n",
       "      <td>0</td>\n",
       "      <td>PC 17599</td>\n",
       "      <td>71.2833</td>\n",
       "      <td>C85</td>\n",
       "      <td>C</td>\n",
       "    </tr>\n",
       "    <tr>\n",
       "      <th>2</th>\n",
       "      <td>3</td>\n",
       "      <td>1</td>\n",
       "      <td>3</td>\n",
       "      <td>Heikkinen, Miss. Laina</td>\n",
       "      <td>female</td>\n",
       "      <td>26.0</td>\n",
       "      <td>0</td>\n",
       "      <td>0</td>\n",
       "      <td>STON/O2. 3101282</td>\n",
       "      <td>7.9250</td>\n",
       "      <td>NaN</td>\n",
       "      <td>S</td>\n",
       "    </tr>\n",
       "    <tr>\n",
       "      <th>3</th>\n",
       "      <td>4</td>\n",
       "      <td>1</td>\n",
       "      <td>1</td>\n",
       "      <td>Futrelle, Mrs. Jacques Heath (Lily May Peel)</td>\n",
       "      <td>female</td>\n",
       "      <td>35.0</td>\n",
       "      <td>1</td>\n",
       "      <td>0</td>\n",
       "      <td>113803</td>\n",
       "      <td>53.1000</td>\n",
       "      <td>C123</td>\n",
       "      <td>S</td>\n",
       "    </tr>\n",
       "    <tr>\n",
       "      <th>4</th>\n",
       "      <td>5</td>\n",
       "      <td>0</td>\n",
       "      <td>3</td>\n",
       "      <td>Allen, Mr. William Henry</td>\n",
       "      <td>male</td>\n",
       "      <td>35.0</td>\n",
       "      <td>0</td>\n",
       "      <td>0</td>\n",
       "      <td>373450</td>\n",
       "      <td>8.0500</td>\n",
       "      <td>NaN</td>\n",
       "      <td>S</td>\n",
       "    </tr>\n",
       "  </tbody>\n",
       "</table>\n",
       "</div>"
      ],
      "text/plain": [
       "   PassengerId  Survived  Pclass  \\\n",
       "0            1         0       3   \n",
       "1            2         1       1   \n",
       "2            3         1       3   \n",
       "3            4         1       1   \n",
       "4            5         0       3   \n",
       "\n",
       "                                                Name     Sex   Age  SibSp  \\\n",
       "0                            Braund, Mr. Owen Harris    male  22.0      1   \n",
       "1  Cumings, Mrs. John Bradley (Florence Briggs Th...  female  38.0      1   \n",
       "2                             Heikkinen, Miss. Laina  female  26.0      0   \n",
       "3       Futrelle, Mrs. Jacques Heath (Lily May Peel)  female  35.0      1   \n",
       "4                           Allen, Mr. William Henry    male  35.0      0   \n",
       "\n",
       "   Parch            Ticket     Fare Cabin Embarked  \n",
       "0      0         A/5 21171   7.2500   NaN        S  \n",
       "1      0          PC 17599  71.2833   C85        C  \n",
       "2      0  STON/O2. 3101282   7.9250   NaN        S  \n",
       "3      0            113803  53.1000  C123        S  \n",
       "4      0            373450   8.0500   NaN        S  "
      ]
     },
     "execution_count": 28,
     "metadata": {},
     "output_type": "execute_result"
    }
   ],
   "source": [
    "# train_data.dtypes\n",
    "train_data.head()"
   ]
  },
  {
   "cell_type": "code",
   "execution_count": 29,
   "metadata": {
    "ExecuteTime": {
     "end_time": "2020-08-30T02:01:47.551285Z",
     "start_time": "2020-08-30T02:01:47.533658Z"
    }
   },
   "outputs": [
    {
     "data": {
      "text/html": [
       "<div>\n",
       "<style scoped>\n",
       "    .dataframe tbody tr th:only-of-type {\n",
       "        vertical-align: middle;\n",
       "    }\n",
       "\n",
       "    .dataframe tbody tr th {\n",
       "        vertical-align: top;\n",
       "    }\n",
       "\n",
       "    .dataframe thead th {\n",
       "        text-align: right;\n",
       "    }\n",
       "</style>\n",
       "<table border=\"1\" class=\"dataframe\">\n",
       "  <thead>\n",
       "    <tr style=\"text-align: right;\">\n",
       "      <th></th>\n",
       "      <th>PassengerId</th>\n",
       "      <th>Survived</th>\n",
       "      <th>Pclass</th>\n",
       "      <th>Name</th>\n",
       "      <th>Sex</th>\n",
       "      <th>Age</th>\n",
       "      <th>SibSp</th>\n",
       "      <th>Parch</th>\n",
       "      <th>Ticket</th>\n",
       "      <th>Fare</th>\n",
       "      <th>Cabin</th>\n",
       "      <th>Embarked</th>\n",
       "    </tr>\n",
       "  </thead>\n",
       "  <tbody>\n",
       "    <tr>\n",
       "      <th>0</th>\n",
       "      <td>892</td>\n",
       "      <td>NaN</td>\n",
       "      <td>3</td>\n",
       "      <td>Kelly, Mr. James</td>\n",
       "      <td>male</td>\n",
       "      <td>34.5</td>\n",
       "      <td>0</td>\n",
       "      <td>0</td>\n",
       "      <td>330911</td>\n",
       "      <td>7.8292</td>\n",
       "      <td>NaN</td>\n",
       "      <td>Q</td>\n",
       "    </tr>\n",
       "    <tr>\n",
       "      <th>1</th>\n",
       "      <td>893</td>\n",
       "      <td>NaN</td>\n",
       "      <td>3</td>\n",
       "      <td>Wilkes, Mrs. James (Ellen Needs)</td>\n",
       "      <td>female</td>\n",
       "      <td>47.0</td>\n",
       "      <td>1</td>\n",
       "      <td>0</td>\n",
       "      <td>363272</td>\n",
       "      <td>7.0000</td>\n",
       "      <td>NaN</td>\n",
       "      <td>S</td>\n",
       "    </tr>\n",
       "    <tr>\n",
       "      <th>2</th>\n",
       "      <td>894</td>\n",
       "      <td>NaN</td>\n",
       "      <td>2</td>\n",
       "      <td>Myles, Mr. Thomas Francis</td>\n",
       "      <td>male</td>\n",
       "      <td>62.0</td>\n",
       "      <td>0</td>\n",
       "      <td>0</td>\n",
       "      <td>240276</td>\n",
       "      <td>9.6875</td>\n",
       "      <td>NaN</td>\n",
       "      <td>Q</td>\n",
       "    </tr>\n",
       "    <tr>\n",
       "      <th>3</th>\n",
       "      <td>895</td>\n",
       "      <td>NaN</td>\n",
       "      <td>3</td>\n",
       "      <td>Wirz, Mr. Albert</td>\n",
       "      <td>male</td>\n",
       "      <td>27.0</td>\n",
       "      <td>0</td>\n",
       "      <td>0</td>\n",
       "      <td>315154</td>\n",
       "      <td>8.6625</td>\n",
       "      <td>NaN</td>\n",
       "      <td>S</td>\n",
       "    </tr>\n",
       "    <tr>\n",
       "      <th>4</th>\n",
       "      <td>896</td>\n",
       "      <td>NaN</td>\n",
       "      <td>3</td>\n",
       "      <td>Hirvonen, Mrs. Alexander (Helga E Lindqvist)</td>\n",
       "      <td>female</td>\n",
       "      <td>22.0</td>\n",
       "      <td>1</td>\n",
       "      <td>1</td>\n",
       "      <td>3101298</td>\n",
       "      <td>12.2875</td>\n",
       "      <td>NaN</td>\n",
       "      <td>S</td>\n",
       "    </tr>\n",
       "  </tbody>\n",
       "</table>\n",
       "</div>"
      ],
      "text/plain": [
       "   PassengerId  Survived  Pclass  \\\n",
       "0          892       NaN       3   \n",
       "1          893       NaN       3   \n",
       "2          894       NaN       2   \n",
       "3          895       NaN       3   \n",
       "4          896       NaN       3   \n",
       "\n",
       "                                           Name     Sex   Age  SibSp  Parch  \\\n",
       "0                              Kelly, Mr. James    male  34.5      0      0   \n",
       "1              Wilkes, Mrs. James (Ellen Needs)  female  47.0      1      0   \n",
       "2                     Myles, Mr. Thomas Francis    male  62.0      0      0   \n",
       "3                              Wirz, Mr. Albert    male  27.0      0      0   \n",
       "4  Hirvonen, Mrs. Alexander (Helga E Lindqvist)  female  22.0      1      1   \n",
       "\n",
       "    Ticket     Fare Cabin Embarked  \n",
       "0   330911   7.8292   NaN        Q  \n",
       "1   363272   7.0000   NaN        S  \n",
       "2   240276   9.6875   NaN        Q  \n",
       "3   315154   8.6625   NaN        S  \n",
       "4  3101298  12.2875   NaN        S  "
      ]
     },
     "execution_count": 29,
     "metadata": {},
     "output_type": "execute_result"
    }
   ],
   "source": [
    "test_data['Survived'] = np.nan\n",
    "# test_data.head()\n",
    "test_data = test_data[train_data.columns]\n",
    "test_data.head()"
   ]
  },
  {
   "cell_type": "code",
   "execution_count": 30,
   "metadata": {
    "ExecuteTime": {
     "end_time": "2020-08-30T02:01:47.560999Z",
     "start_time": "2020-08-30T02:01:47.553062Z"
    }
   },
   "outputs": [],
   "source": [
    "\n",
    "data = pd.concat([train_data, test_data], axis=0)"
   ]
  },
  {
   "cell_type": "code",
   "execution_count": 31,
   "metadata": {
    "ExecuteTime": {
     "end_time": "2020-08-30T02:01:47.596767Z",
     "start_time": "2020-08-30T02:01:47.562867Z"
    }
   },
   "outputs": [
    {
     "data": {
      "text/html": [
       "<div>\n",
       "<style scoped>\n",
       "    .dataframe tbody tr th:only-of-type {\n",
       "        vertical-align: middle;\n",
       "    }\n",
       "\n",
       "    .dataframe tbody tr th {\n",
       "        vertical-align: top;\n",
       "    }\n",
       "\n",
       "    .dataframe thead th {\n",
       "        text-align: right;\n",
       "    }\n",
       "</style>\n",
       "<table border=\"1\" class=\"dataframe\">\n",
       "  <thead>\n",
       "    <tr style=\"text-align: right;\">\n",
       "      <th></th>\n",
       "      <th>PassengerId</th>\n",
       "      <th>Survived</th>\n",
       "      <th>Pclass</th>\n",
       "      <th>Age</th>\n",
       "      <th>SibSp</th>\n",
       "      <th>Parch</th>\n",
       "      <th>Fare</th>\n",
       "    </tr>\n",
       "  </thead>\n",
       "  <tbody>\n",
       "    <tr>\n",
       "      <th>count</th>\n",
       "      <td>1309.000000</td>\n",
       "      <td>891.000000</td>\n",
       "      <td>1309.000000</td>\n",
       "      <td>1046.000000</td>\n",
       "      <td>1309.000000</td>\n",
       "      <td>1309.000000</td>\n",
       "      <td>1308.000000</td>\n",
       "    </tr>\n",
       "    <tr>\n",
       "      <th>mean</th>\n",
       "      <td>655.000000</td>\n",
       "      <td>0.383838</td>\n",
       "      <td>2.294882</td>\n",
       "      <td>29.881138</td>\n",
       "      <td>0.498854</td>\n",
       "      <td>0.385027</td>\n",
       "      <td>33.295479</td>\n",
       "    </tr>\n",
       "    <tr>\n",
       "      <th>std</th>\n",
       "      <td>378.020061</td>\n",
       "      <td>0.486592</td>\n",
       "      <td>0.837836</td>\n",
       "      <td>14.413493</td>\n",
       "      <td>1.041658</td>\n",
       "      <td>0.865560</td>\n",
       "      <td>51.758668</td>\n",
       "    </tr>\n",
       "    <tr>\n",
       "      <th>min</th>\n",
       "      <td>1.000000</td>\n",
       "      <td>0.000000</td>\n",
       "      <td>1.000000</td>\n",
       "      <td>0.170000</td>\n",
       "      <td>0.000000</td>\n",
       "      <td>0.000000</td>\n",
       "      <td>0.000000</td>\n",
       "    </tr>\n",
       "    <tr>\n",
       "      <th>25%</th>\n",
       "      <td>328.000000</td>\n",
       "      <td>0.000000</td>\n",
       "      <td>2.000000</td>\n",
       "      <td>21.000000</td>\n",
       "      <td>0.000000</td>\n",
       "      <td>0.000000</td>\n",
       "      <td>7.895800</td>\n",
       "    </tr>\n",
       "    <tr>\n",
       "      <th>50%</th>\n",
       "      <td>655.000000</td>\n",
       "      <td>0.000000</td>\n",
       "      <td>3.000000</td>\n",
       "      <td>28.000000</td>\n",
       "      <td>0.000000</td>\n",
       "      <td>0.000000</td>\n",
       "      <td>14.454200</td>\n",
       "    </tr>\n",
       "    <tr>\n",
       "      <th>75%</th>\n",
       "      <td>982.000000</td>\n",
       "      <td>1.000000</td>\n",
       "      <td>3.000000</td>\n",
       "      <td>39.000000</td>\n",
       "      <td>1.000000</td>\n",
       "      <td>0.000000</td>\n",
       "      <td>31.275000</td>\n",
       "    </tr>\n",
       "    <tr>\n",
       "      <th>max</th>\n",
       "      <td>1309.000000</td>\n",
       "      <td>1.000000</td>\n",
       "      <td>3.000000</td>\n",
       "      <td>80.000000</td>\n",
       "      <td>8.000000</td>\n",
       "      <td>9.000000</td>\n",
       "      <td>512.329200</td>\n",
       "    </tr>\n",
       "  </tbody>\n",
       "</table>\n",
       "</div>"
      ],
      "text/plain": [
       "       PassengerId    Survived       Pclass          Age        SibSp  \\\n",
       "count  1309.000000  891.000000  1309.000000  1046.000000  1309.000000   \n",
       "mean    655.000000    0.383838     2.294882    29.881138     0.498854   \n",
       "std     378.020061    0.486592     0.837836    14.413493     1.041658   \n",
       "min       1.000000    0.000000     1.000000     0.170000     0.000000   \n",
       "25%     328.000000    0.000000     2.000000    21.000000     0.000000   \n",
       "50%     655.000000    0.000000     3.000000    28.000000     0.000000   \n",
       "75%     982.000000    1.000000     3.000000    39.000000     1.000000   \n",
       "max    1309.000000    1.000000     3.000000    80.000000     8.000000   \n",
       "\n",
       "             Parch         Fare  \n",
       "count  1309.000000  1308.000000  \n",
       "mean      0.385027    33.295479  \n",
       "std       0.865560    51.758668  \n",
       "min       0.000000     0.000000  \n",
       "25%       0.000000     7.895800  \n",
       "50%       0.000000    14.454200  \n",
       "75%       0.000000    31.275000  \n",
       "max       9.000000   512.329200  "
      ]
     },
     "execution_count": 31,
     "metadata": {},
     "output_type": "execute_result"
    }
   ],
   "source": [
    "data.describe()"
   ]
  },
  {
   "cell_type": "code",
   "execution_count": 32,
   "metadata": {
    "ExecuteTime": {
     "end_time": "2020-08-30T02:01:47.608592Z",
     "start_time": "2020-08-30T02:01:47.598471Z"
    }
   },
   "outputs": [
    {
     "name": "stdout",
     "output_type": "stream",
     "text": [
      "<class 'pandas.core.frame.DataFrame'>\n",
      "Int64Index: 1309 entries, 0 to 417\n",
      "Data columns (total 12 columns):\n",
      " #   Column       Non-Null Count  Dtype  \n",
      "---  ------       --------------  -----  \n",
      " 0   PassengerId  1309 non-null   int64  \n",
      " 1   Survived     891 non-null    float64\n",
      " 2   Pclass       1309 non-null   int64  \n",
      " 3   Name         1309 non-null   object \n",
      " 4   Sex          1309 non-null   object \n",
      " 5   Age          1046 non-null   float64\n",
      " 6   SibSp        1309 non-null   int64  \n",
      " 7   Parch        1309 non-null   int64  \n",
      " 8   Ticket       1309 non-null   object \n",
      " 9   Fare         1308 non-null   float64\n",
      " 10  Cabin        295 non-null    object \n",
      " 11  Embarked     1307 non-null   object \n",
      "dtypes: float64(3), int64(4), object(5)\n",
      "memory usage: 132.9+ KB\n"
     ]
    }
   ],
   "source": [
    "data.info()"
   ]
  },
  {
   "cell_type": "code",
   "execution_count": 33,
   "metadata": {
    "ExecuteTime": {
     "end_time": "2020-08-30T02:01:47.615551Z",
     "start_time": "2020-08-30T02:01:47.612059Z"
    }
   },
   "outputs": [],
   "source": [
    "column_type_dict = data.dtypes.apply(lambda x: x.name).to_dict()"
   ]
  },
  {
   "cell_type": "code",
   "execution_count": 34,
   "metadata": {
    "ExecuteTime": {
     "end_time": "2020-08-30T02:01:47.620544Z",
     "start_time": "2020-08-30T02:01:47.617716Z"
    }
   },
   "outputs": [],
   "source": [
    "label_column = [\"Survived\"]"
   ]
  },
  {
   "cell_type": "code",
   "execution_count": 35,
   "metadata": {
    "ExecuteTime": {
     "end_time": "2020-08-30T02:01:47.631169Z",
     "start_time": "2020-08-30T02:01:47.622277Z"
    }
   },
   "outputs": [
    {
     "data": {
      "text/plain": [
       "['Embarked', 'Name', 'Sex', 'Cabin', 'Ticket']"
      ]
     },
     "execution_count": 35,
     "metadata": {},
     "output_type": "execute_result"
    }
   ],
   "source": [
    "feature_columns = list(set(data.columns) - set(label_column))\n",
    "dense_feature = list(set(data.select_dtypes(include=np.number).columns) & set(feature_columns))\n",
    "sparse_feature = list(set(data.select_dtypes(exclude=np.number).columns) & set(feature_columns))\n",
    "# feature_columns\n",
    "# dense_feature\n",
    "sparse_feature"
   ]
  },
  {
   "cell_type": "code",
   "execution_count": 36,
   "metadata": {
    "ExecuteTime": {
     "end_time": "2020-08-30T02:01:47.682637Z",
     "start_time": "2020-08-30T02:01:47.632819Z"
    }
   },
   "outputs": [
    {
     "name": "stdout",
     "output_type": "stream",
     "text": [
      "Variable                Type          Data/Info\n",
      "-----------------------------------------------\n",
      "LabelEncoder            type          <class 'sklearn.preproces<...>ing._label.LabelEncoder'>\n",
      "TEST_DATA_PATH          str           ./data/test.csv\n",
      "TRAIN_DATA_PATH         str           ./data/train.csv\n",
      "column_type_dict        dict          n=12\n",
      "concat_dense_inputs     Tensor        Tensor(\"concatenate_1/con<...>(None, 6), dtype=float32)\n",
      "data                    DataFrame          PassengerId  Survive<...>n[1309 rows x 12 columns]\n",
      "data_dense              DataFrame              Fare     SibSp  <...>\\n[1309 rows x 6 columns]\n",
      "data_sparse             DataFrame          Embarked  Name  Sex <...>\\n[1309 rows x 5 columns]\n",
      "dense_feature           list          n=6\n",
      "dense_inputs            list          n=6\n",
      "f                       str           Age\n",
      "feature_columns         list          n=11\n",
      "fst_order_dense_layer   Tensor        Tensor(\"dense_1/BiasAdd:0<...>(None, 1), dtype=float32)\n",
      "functools               module        <module 'functools' from <...>/python3.7/functools.py'>\n",
      "json                    module        <module 'json' from '/hom<...>hon3.7/json/__init__.py'>\n",
      "label_column            list          n=1\n",
      "liner_model             Functional    <tensorflow.python.keras.<...>object at 0x7f069812cd10>\n",
      "np                      module        <module 'numpy' from '/ho<...>kages/numpy/__init__.py'>\n",
      "pd                      module        <module 'pandas' from '/h<...>ages/pandas/__init__.py'>\n",
      "process_dense_feats     function      <function process_dense_feats at 0x7f07a03e6950>\n",
      "process_sparse_feats    function      <function process_sparse_feats at 0x7f07a0389320>\n",
      "sparse_feature          list          n=5\n",
      "test_data               DataFrame          PassengerId  Survive<...>\\n[418 rows x 12 columns]\n",
      "tf                      module        <module 'tensorflow' from<...>/tensorflow/__init__.py'>\n",
      "tfds                    module        <module 'tensorflow_datas<...>ow_datasets/__init__.py'>\n",
      "total_data              DataFrame              Fare     SibSp  <...>n[1309 rows x 12 columns]\n",
      "train_data              DataFrame          PassengerId  Survive<...>\\n[891 rows x 12 columns]\n",
      "yapf_reformat           function      <function yapf_reformat at 0x7f084427cc20>\n"
     ]
    }
   ],
   "source": [
    "%whos"
   ]
  },
  {
   "cell_type": "code",
   "execution_count": 37,
   "metadata": {
    "ExecuteTime": {
     "end_time": "2020-08-30T02:01:47.688525Z",
     "start_time": "2020-08-30T02:01:47.684510Z"
    }
   },
   "outputs": [],
   "source": [
    "def process_dense_feats(data, feats):\n",
    "    d = data.copy()\n",
    "    d = d[feats].fillna(0.0)  # 暂时填充为0\n",
    "    for f in feats:\n",
    "        d[f] = d[f].apply(lambda x: np.log(x+1) if x > -1 else -1)\n",
    "    \n",
    "    return d"
   ]
  },
  {
   "cell_type": "code",
   "execution_count": 38,
   "metadata": {
    "ExecuteTime": {
     "end_time": "2020-08-30T02:01:47.738946Z",
     "start_time": "2020-08-30T02:01:47.690367Z"
    }
   },
   "outputs": [
    {
     "data": {
      "text/html": [
       "<div>\n",
       "<style scoped>\n",
       "    .dataframe tbody tr th:only-of-type {\n",
       "        vertical-align: middle;\n",
       "    }\n",
       "\n",
       "    .dataframe tbody tr th {\n",
       "        vertical-align: top;\n",
       "    }\n",
       "\n",
       "    .dataframe thead th {\n",
       "        text-align: right;\n",
       "    }\n",
       "</style>\n",
       "<table border=\"1\" class=\"dataframe\">\n",
       "  <thead>\n",
       "    <tr style=\"text-align: right;\">\n",
       "      <th></th>\n",
       "      <th>Fare</th>\n",
       "      <th>SibSp</th>\n",
       "      <th>PassengerId</th>\n",
       "      <th>Pclass</th>\n",
       "      <th>Parch</th>\n",
       "      <th>Age</th>\n",
       "    </tr>\n",
       "  </thead>\n",
       "  <tbody>\n",
       "    <tr>\n",
       "      <th>0</th>\n",
       "      <td>2.110213</td>\n",
       "      <td>0.693147</td>\n",
       "      <td>0.693147</td>\n",
       "      <td>1.386294</td>\n",
       "      <td>0.000000</td>\n",
       "      <td>3.135494</td>\n",
       "    </tr>\n",
       "    <tr>\n",
       "      <th>1</th>\n",
       "      <td>4.280593</td>\n",
       "      <td>0.693147</td>\n",
       "      <td>1.098612</td>\n",
       "      <td>0.693147</td>\n",
       "      <td>0.000000</td>\n",
       "      <td>3.663562</td>\n",
       "    </tr>\n",
       "    <tr>\n",
       "      <th>2</th>\n",
       "      <td>2.188856</td>\n",
       "      <td>0.000000</td>\n",
       "      <td>1.386294</td>\n",
       "      <td>1.386294</td>\n",
       "      <td>0.000000</td>\n",
       "      <td>3.295837</td>\n",
       "    </tr>\n",
       "    <tr>\n",
       "      <th>3</th>\n",
       "      <td>3.990834</td>\n",
       "      <td>0.693147</td>\n",
       "      <td>1.609438</td>\n",
       "      <td>0.693147</td>\n",
       "      <td>0.000000</td>\n",
       "      <td>3.583519</td>\n",
       "    </tr>\n",
       "    <tr>\n",
       "      <th>4</th>\n",
       "      <td>2.202765</td>\n",
       "      <td>0.000000</td>\n",
       "      <td>1.791759</td>\n",
       "      <td>1.386294</td>\n",
       "      <td>0.000000</td>\n",
       "      <td>3.583519</td>\n",
       "    </tr>\n",
       "    <tr>\n",
       "      <th>...</th>\n",
       "      <td>...</td>\n",
       "      <td>...</td>\n",
       "      <td>...</td>\n",
       "      <td>...</td>\n",
       "      <td>...</td>\n",
       "      <td>...</td>\n",
       "    </tr>\n",
       "    <tr>\n",
       "      <th>413</th>\n",
       "      <td>2.202765</td>\n",
       "      <td>0.000000</td>\n",
       "      <td>7.174724</td>\n",
       "      <td>1.386294</td>\n",
       "      <td>0.000000</td>\n",
       "      <td>0.000000</td>\n",
       "    </tr>\n",
       "    <tr>\n",
       "      <th>414</th>\n",
       "      <td>4.699571</td>\n",
       "      <td>0.000000</td>\n",
       "      <td>7.175490</td>\n",
       "      <td>0.693147</td>\n",
       "      <td>0.000000</td>\n",
       "      <td>3.688879</td>\n",
       "    </tr>\n",
       "    <tr>\n",
       "      <th>415</th>\n",
       "      <td>2.110213</td>\n",
       "      <td>0.000000</td>\n",
       "      <td>7.176255</td>\n",
       "      <td>1.386294</td>\n",
       "      <td>0.000000</td>\n",
       "      <td>3.676301</td>\n",
       "    </tr>\n",
       "    <tr>\n",
       "      <th>416</th>\n",
       "      <td>2.202765</td>\n",
       "      <td>0.000000</td>\n",
       "      <td>7.177019</td>\n",
       "      <td>1.386294</td>\n",
       "      <td>0.000000</td>\n",
       "      <td>0.000000</td>\n",
       "    </tr>\n",
       "    <tr>\n",
       "      <th>417</th>\n",
       "      <td>3.150952</td>\n",
       "      <td>0.693147</td>\n",
       "      <td>7.177782</td>\n",
       "      <td>1.386294</td>\n",
       "      <td>0.693147</td>\n",
       "      <td>0.000000</td>\n",
       "    </tr>\n",
       "  </tbody>\n",
       "</table>\n",
       "<p>1309 rows × 6 columns</p>\n",
       "</div>"
      ],
      "text/plain": [
       "         Fare     SibSp  PassengerId    Pclass     Parch       Age\n",
       "0    2.110213  0.693147     0.693147  1.386294  0.000000  3.135494\n",
       "1    4.280593  0.693147     1.098612  0.693147  0.000000  3.663562\n",
       "2    2.188856  0.000000     1.386294  1.386294  0.000000  3.295837\n",
       "3    3.990834  0.693147     1.609438  0.693147  0.000000  3.583519\n",
       "4    2.202765  0.000000     1.791759  1.386294  0.000000  3.583519\n",
       "..        ...       ...          ...       ...       ...       ...\n",
       "413  2.202765  0.000000     7.174724  1.386294  0.000000  0.000000\n",
       "414  4.699571  0.000000     7.175490  0.693147  0.000000  3.688879\n",
       "415  2.110213  0.000000     7.176255  1.386294  0.000000  3.676301\n",
       "416  2.202765  0.000000     7.177019  1.386294  0.000000  0.000000\n",
       "417  3.150952  0.693147     7.177782  1.386294  0.693147  0.000000\n",
       "\n",
       "[1309 rows x 6 columns]"
      ]
     },
     "execution_count": 38,
     "metadata": {},
     "output_type": "execute_result"
    }
   ],
   "source": [
    "data_dense = process_dense_feats(data, dense_feature)\n",
    "data_dense"
   ]
  },
  {
   "cell_type": "code",
   "execution_count": 39,
   "metadata": {
    "ExecuteTime": {
     "end_time": "2020-08-30T02:01:47.744586Z",
     "start_time": "2020-08-30T02:01:47.740679Z"
    }
   },
   "outputs": [],
   "source": [
    "from sklearn.preprocessing import LabelEncoder\n",
    "def process_sparse_feats(data, feats):\n",
    "    d = data.copy()\n",
    "    d = d[feats].fillna(\"-1\")  # 默认填充为-1\n",
    "    for f in feats:\n",
    "        label_encoder = LabelEncoder()\n",
    "        d[f] = label_encoder.fit_transform(d[f])\n",
    "        \n",
    "    return d"
   ]
  },
  {
   "cell_type": "code",
   "execution_count": 40,
   "metadata": {
    "ExecuteTime": {
     "end_time": "2020-08-30T02:01:47.764070Z",
     "start_time": "2020-08-30T02:01:47.746330Z"
    }
   },
   "outputs": [
    {
     "data": {
      "text/html": [
       "<div>\n",
       "<style scoped>\n",
       "    .dataframe tbody tr th:only-of-type {\n",
       "        vertical-align: middle;\n",
       "    }\n",
       "\n",
       "    .dataframe tbody tr th {\n",
       "        vertical-align: top;\n",
       "    }\n",
       "\n",
       "    .dataframe thead th {\n",
       "        text-align: right;\n",
       "    }\n",
       "</style>\n",
       "<table border=\"1\" class=\"dataframe\">\n",
       "  <thead>\n",
       "    <tr style=\"text-align: right;\">\n",
       "      <th></th>\n",
       "      <th>Embarked</th>\n",
       "      <th>Name</th>\n",
       "      <th>Sex</th>\n",
       "      <th>Cabin</th>\n",
       "      <th>Ticket</th>\n",
       "    </tr>\n",
       "  </thead>\n",
       "  <tbody>\n",
       "    <tr>\n",
       "      <th>0</th>\n",
       "      <td>3</td>\n",
       "      <td>155</td>\n",
       "      <td>1</td>\n",
       "      <td>0</td>\n",
       "      <td>720</td>\n",
       "    </tr>\n",
       "    <tr>\n",
       "      <th>1</th>\n",
       "      <td>1</td>\n",
       "      <td>286</td>\n",
       "      <td>0</td>\n",
       "      <td>107</td>\n",
       "      <td>816</td>\n",
       "    </tr>\n",
       "    <tr>\n",
       "      <th>2</th>\n",
       "      <td>3</td>\n",
       "      <td>523</td>\n",
       "      <td>0</td>\n",
       "      <td>0</td>\n",
       "      <td>914</td>\n",
       "    </tr>\n",
       "    <tr>\n",
       "      <th>3</th>\n",
       "      <td>3</td>\n",
       "      <td>422</td>\n",
       "      <td>0</td>\n",
       "      <td>71</td>\n",
       "      <td>65</td>\n",
       "    </tr>\n",
       "    <tr>\n",
       "      <th>4</th>\n",
       "      <td>3</td>\n",
       "      <td>22</td>\n",
       "      <td>1</td>\n",
       "      <td>0</td>\n",
       "      <td>649</td>\n",
       "    </tr>\n",
       "    <tr>\n",
       "      <th>...</th>\n",
       "      <td>...</td>\n",
       "      <td>...</td>\n",
       "      <td>...</td>\n",
       "      <td>...</td>\n",
       "      <td>...</td>\n",
       "    </tr>\n",
       "    <tr>\n",
       "      <th>413</th>\n",
       "      <td>3</td>\n",
       "      <td>1126</td>\n",
       "      <td>1</td>\n",
       "      <td>0</td>\n",
       "      <td>711</td>\n",
       "    </tr>\n",
       "    <tr>\n",
       "      <th>414</th>\n",
       "      <td>1</td>\n",
       "      <td>891</td>\n",
       "      <td>0</td>\n",
       "      <td>65</td>\n",
       "      <td>834</td>\n",
       "    </tr>\n",
       "    <tr>\n",
       "      <th>415</th>\n",
       "      <td>3</td>\n",
       "      <td>1046</td>\n",
       "      <td>1</td>\n",
       "      <td>0</td>\n",
       "      <td>872</td>\n",
       "    </tr>\n",
       "    <tr>\n",
       "      <th>416</th>\n",
       "      <td>3</td>\n",
       "      <td>1227</td>\n",
       "      <td>1</td>\n",
       "      <td>0</td>\n",
       "      <td>579</td>\n",
       "    </tr>\n",
       "    <tr>\n",
       "      <th>417</th>\n",
       "      <td>1</td>\n",
       "      <td>953</td>\n",
       "      <td>1</td>\n",
       "      <td>0</td>\n",
       "      <td>262</td>\n",
       "    </tr>\n",
       "  </tbody>\n",
       "</table>\n",
       "<p>1309 rows × 5 columns</p>\n",
       "</div>"
      ],
      "text/plain": [
       "     Embarked  Name  Sex  Cabin  Ticket\n",
       "0           3   155    1      0     720\n",
       "1           1   286    0    107     816\n",
       "2           3   523    0      0     914\n",
       "3           3   422    0     71      65\n",
       "4           3    22    1      0     649\n",
       "..        ...   ...  ...    ...     ...\n",
       "413         3  1126    1      0     711\n",
       "414         1   891    0     65     834\n",
       "415         3  1046    1      0     872\n",
       "416         3  1227    1      0     579\n",
       "417         1   953    1      0     262\n",
       "\n",
       "[1309 rows x 5 columns]"
      ]
     },
     "execution_count": 40,
     "metadata": {},
     "output_type": "execute_result"
    }
   ],
   "source": [
    "data_sparse = process_sparse_feats(data, sparse_feature)\n",
    "data_sparse"
   ]
  },
  {
   "cell_type": "code",
   "execution_count": 41,
   "metadata": {
    "ExecuteTime": {
     "end_time": "2020-08-30T02:01:47.784295Z",
     "start_time": "2020-08-30T02:01:47.765682Z"
    }
   },
   "outputs": [
    {
     "data": {
      "text/html": [
       "<div>\n",
       "<style scoped>\n",
       "    .dataframe tbody tr th:only-of-type {\n",
       "        vertical-align: middle;\n",
       "    }\n",
       "\n",
       "    .dataframe tbody tr th {\n",
       "        vertical-align: top;\n",
       "    }\n",
       "\n",
       "    .dataframe thead th {\n",
       "        text-align: right;\n",
       "    }\n",
       "</style>\n",
       "<table border=\"1\" class=\"dataframe\">\n",
       "  <thead>\n",
       "    <tr style=\"text-align: right;\">\n",
       "      <th></th>\n",
       "      <th>Fare</th>\n",
       "      <th>SibSp</th>\n",
       "      <th>PassengerId</th>\n",
       "      <th>Pclass</th>\n",
       "      <th>Parch</th>\n",
       "      <th>Age</th>\n",
       "      <th>Embarked</th>\n",
       "      <th>Name</th>\n",
       "      <th>Sex</th>\n",
       "      <th>Cabin</th>\n",
       "      <th>Ticket</th>\n",
       "    </tr>\n",
       "  </thead>\n",
       "  <tbody>\n",
       "    <tr>\n",
       "      <th>0</th>\n",
       "      <td>2.110213</td>\n",
       "      <td>0.693147</td>\n",
       "      <td>0.693147</td>\n",
       "      <td>1.386294</td>\n",
       "      <td>0.000000</td>\n",
       "      <td>3.135494</td>\n",
       "      <td>3</td>\n",
       "      <td>155</td>\n",
       "      <td>1</td>\n",
       "      <td>0</td>\n",
       "      <td>720</td>\n",
       "    </tr>\n",
       "    <tr>\n",
       "      <th>1</th>\n",
       "      <td>4.280593</td>\n",
       "      <td>0.693147</td>\n",
       "      <td>1.098612</td>\n",
       "      <td>0.693147</td>\n",
       "      <td>0.000000</td>\n",
       "      <td>3.663562</td>\n",
       "      <td>1</td>\n",
       "      <td>286</td>\n",
       "      <td>0</td>\n",
       "      <td>107</td>\n",
       "      <td>816</td>\n",
       "    </tr>\n",
       "    <tr>\n",
       "      <th>2</th>\n",
       "      <td>2.188856</td>\n",
       "      <td>0.000000</td>\n",
       "      <td>1.386294</td>\n",
       "      <td>1.386294</td>\n",
       "      <td>0.000000</td>\n",
       "      <td>3.295837</td>\n",
       "      <td>3</td>\n",
       "      <td>523</td>\n",
       "      <td>0</td>\n",
       "      <td>0</td>\n",
       "      <td>914</td>\n",
       "    </tr>\n",
       "    <tr>\n",
       "      <th>3</th>\n",
       "      <td>3.990834</td>\n",
       "      <td>0.693147</td>\n",
       "      <td>1.609438</td>\n",
       "      <td>0.693147</td>\n",
       "      <td>0.000000</td>\n",
       "      <td>3.583519</td>\n",
       "      <td>3</td>\n",
       "      <td>422</td>\n",
       "      <td>0</td>\n",
       "      <td>71</td>\n",
       "      <td>65</td>\n",
       "    </tr>\n",
       "    <tr>\n",
       "      <th>4</th>\n",
       "      <td>2.202765</td>\n",
       "      <td>0.000000</td>\n",
       "      <td>1.791759</td>\n",
       "      <td>1.386294</td>\n",
       "      <td>0.000000</td>\n",
       "      <td>3.583519</td>\n",
       "      <td>3</td>\n",
       "      <td>22</td>\n",
       "      <td>1</td>\n",
       "      <td>0</td>\n",
       "      <td>649</td>\n",
       "    </tr>\n",
       "    <tr>\n",
       "      <th>...</th>\n",
       "      <td>...</td>\n",
       "      <td>...</td>\n",
       "      <td>...</td>\n",
       "      <td>...</td>\n",
       "      <td>...</td>\n",
       "      <td>...</td>\n",
       "      <td>...</td>\n",
       "      <td>...</td>\n",
       "      <td>...</td>\n",
       "      <td>...</td>\n",
       "      <td>...</td>\n",
       "    </tr>\n",
       "    <tr>\n",
       "      <th>413</th>\n",
       "      <td>2.202765</td>\n",
       "      <td>0.000000</td>\n",
       "      <td>7.174724</td>\n",
       "      <td>1.386294</td>\n",
       "      <td>0.000000</td>\n",
       "      <td>0.000000</td>\n",
       "      <td>3</td>\n",
       "      <td>1126</td>\n",
       "      <td>1</td>\n",
       "      <td>0</td>\n",
       "      <td>711</td>\n",
       "    </tr>\n",
       "    <tr>\n",
       "      <th>414</th>\n",
       "      <td>4.699571</td>\n",
       "      <td>0.000000</td>\n",
       "      <td>7.175490</td>\n",
       "      <td>0.693147</td>\n",
       "      <td>0.000000</td>\n",
       "      <td>3.688879</td>\n",
       "      <td>1</td>\n",
       "      <td>891</td>\n",
       "      <td>0</td>\n",
       "      <td>65</td>\n",
       "      <td>834</td>\n",
       "    </tr>\n",
       "    <tr>\n",
       "      <th>415</th>\n",
       "      <td>2.110213</td>\n",
       "      <td>0.000000</td>\n",
       "      <td>7.176255</td>\n",
       "      <td>1.386294</td>\n",
       "      <td>0.000000</td>\n",
       "      <td>3.676301</td>\n",
       "      <td>3</td>\n",
       "      <td>1046</td>\n",
       "      <td>1</td>\n",
       "      <td>0</td>\n",
       "      <td>872</td>\n",
       "    </tr>\n",
       "    <tr>\n",
       "      <th>416</th>\n",
       "      <td>2.202765</td>\n",
       "      <td>0.000000</td>\n",
       "      <td>7.177019</td>\n",
       "      <td>1.386294</td>\n",
       "      <td>0.000000</td>\n",
       "      <td>0.000000</td>\n",
       "      <td>3</td>\n",
       "      <td>1227</td>\n",
       "      <td>1</td>\n",
       "      <td>0</td>\n",
       "      <td>579</td>\n",
       "    </tr>\n",
       "    <tr>\n",
       "      <th>417</th>\n",
       "      <td>3.150952</td>\n",
       "      <td>0.693147</td>\n",
       "      <td>7.177782</td>\n",
       "      <td>1.386294</td>\n",
       "      <td>0.693147</td>\n",
       "      <td>0.000000</td>\n",
       "      <td>1</td>\n",
       "      <td>953</td>\n",
       "      <td>1</td>\n",
       "      <td>0</td>\n",
       "      <td>262</td>\n",
       "    </tr>\n",
       "  </tbody>\n",
       "</table>\n",
       "<p>1309 rows × 11 columns</p>\n",
       "</div>"
      ],
      "text/plain": [
       "         Fare     SibSp  PassengerId    Pclass     Parch       Age  Embarked  \\\n",
       "0    2.110213  0.693147     0.693147  1.386294  0.000000  3.135494         3   \n",
       "1    4.280593  0.693147     1.098612  0.693147  0.000000  3.663562         1   \n",
       "2    2.188856  0.000000     1.386294  1.386294  0.000000  3.295837         3   \n",
       "3    3.990834  0.693147     1.609438  0.693147  0.000000  3.583519         3   \n",
       "4    2.202765  0.000000     1.791759  1.386294  0.000000  3.583519         3   \n",
       "..        ...       ...          ...       ...       ...       ...       ...   \n",
       "413  2.202765  0.000000     7.174724  1.386294  0.000000  0.000000         3   \n",
       "414  4.699571  0.000000     7.175490  0.693147  0.000000  3.688879         1   \n",
       "415  2.110213  0.000000     7.176255  1.386294  0.000000  3.676301         3   \n",
       "416  2.202765  0.000000     7.177019  1.386294  0.000000  0.000000         3   \n",
       "417  3.150952  0.693147     7.177782  1.386294  0.693147  0.000000         1   \n",
       "\n",
       "     Name  Sex  Cabin  Ticket  \n",
       "0     155    1      0     720  \n",
       "1     286    0    107     816  \n",
       "2     523    0      0     914  \n",
       "3     422    0     71      65  \n",
       "4      22    1      0     649  \n",
       "..    ...  ...    ...     ...  \n",
       "413  1126    1      0     711  \n",
       "414   891    0     65     834  \n",
       "415  1046    1      0     872  \n",
       "416  1227    1      0     579  \n",
       "417   953    1      0     262  \n",
       "\n",
       "[1309 rows x 11 columns]"
      ]
     },
     "execution_count": 41,
     "metadata": {},
     "output_type": "execute_result"
    }
   ],
   "source": [
    "total_data = pd.concat([data_dense, data_sparse], axis=1)\n",
    "total_data"
   ]
  },
  {
   "cell_type": "code",
   "execution_count": 42,
   "metadata": {
    "ExecuteTime": {
     "end_time": "2020-08-30T02:01:47.790102Z",
     "start_time": "2020-08-30T02:01:47.785945Z"
    }
   },
   "outputs": [],
   "source": [
    "total_data['label'] = data[label_column]"
   ]
  },
  {
   "cell_type": "code",
   "execution_count": 43,
   "metadata": {
    "ExecuteTime": {
     "end_time": "2020-08-30T02:01:47.812068Z",
     "start_time": "2020-08-30T02:01:47.791908Z"
    }
   },
   "outputs": [
    {
     "data": {
      "text/html": [
       "<div>\n",
       "<style scoped>\n",
       "    .dataframe tbody tr th:only-of-type {\n",
       "        vertical-align: middle;\n",
       "    }\n",
       "\n",
       "    .dataframe tbody tr th {\n",
       "        vertical-align: top;\n",
       "    }\n",
       "\n",
       "    .dataframe thead th {\n",
       "        text-align: right;\n",
       "    }\n",
       "</style>\n",
       "<table border=\"1\" class=\"dataframe\">\n",
       "  <thead>\n",
       "    <tr style=\"text-align: right;\">\n",
       "      <th></th>\n",
       "      <th>Fare</th>\n",
       "      <th>SibSp</th>\n",
       "      <th>PassengerId</th>\n",
       "      <th>Pclass</th>\n",
       "      <th>Parch</th>\n",
       "      <th>Age</th>\n",
       "      <th>Embarked</th>\n",
       "      <th>Name</th>\n",
       "      <th>Sex</th>\n",
       "      <th>Cabin</th>\n",
       "      <th>Ticket</th>\n",
       "      <th>label</th>\n",
       "    </tr>\n",
       "  </thead>\n",
       "  <tbody>\n",
       "    <tr>\n",
       "      <th>0</th>\n",
       "      <td>2.110213</td>\n",
       "      <td>0.693147</td>\n",
       "      <td>0.693147</td>\n",
       "      <td>1.386294</td>\n",
       "      <td>0.000000</td>\n",
       "      <td>3.135494</td>\n",
       "      <td>3</td>\n",
       "      <td>155</td>\n",
       "      <td>1</td>\n",
       "      <td>0</td>\n",
       "      <td>720</td>\n",
       "      <td>0.0</td>\n",
       "    </tr>\n",
       "    <tr>\n",
       "      <th>1</th>\n",
       "      <td>4.280593</td>\n",
       "      <td>0.693147</td>\n",
       "      <td>1.098612</td>\n",
       "      <td>0.693147</td>\n",
       "      <td>0.000000</td>\n",
       "      <td>3.663562</td>\n",
       "      <td>1</td>\n",
       "      <td>286</td>\n",
       "      <td>0</td>\n",
       "      <td>107</td>\n",
       "      <td>816</td>\n",
       "      <td>1.0</td>\n",
       "    </tr>\n",
       "    <tr>\n",
       "      <th>2</th>\n",
       "      <td>2.188856</td>\n",
       "      <td>0.000000</td>\n",
       "      <td>1.386294</td>\n",
       "      <td>1.386294</td>\n",
       "      <td>0.000000</td>\n",
       "      <td>3.295837</td>\n",
       "      <td>3</td>\n",
       "      <td>523</td>\n",
       "      <td>0</td>\n",
       "      <td>0</td>\n",
       "      <td>914</td>\n",
       "      <td>1.0</td>\n",
       "    </tr>\n",
       "    <tr>\n",
       "      <th>3</th>\n",
       "      <td>3.990834</td>\n",
       "      <td>0.693147</td>\n",
       "      <td>1.609438</td>\n",
       "      <td>0.693147</td>\n",
       "      <td>0.000000</td>\n",
       "      <td>3.583519</td>\n",
       "      <td>3</td>\n",
       "      <td>422</td>\n",
       "      <td>0</td>\n",
       "      <td>71</td>\n",
       "      <td>65</td>\n",
       "      <td>1.0</td>\n",
       "    </tr>\n",
       "    <tr>\n",
       "      <th>4</th>\n",
       "      <td>2.202765</td>\n",
       "      <td>0.000000</td>\n",
       "      <td>1.791759</td>\n",
       "      <td>1.386294</td>\n",
       "      <td>0.000000</td>\n",
       "      <td>3.583519</td>\n",
       "      <td>3</td>\n",
       "      <td>22</td>\n",
       "      <td>1</td>\n",
       "      <td>0</td>\n",
       "      <td>649</td>\n",
       "      <td>0.0</td>\n",
       "    </tr>\n",
       "    <tr>\n",
       "      <th>...</th>\n",
       "      <td>...</td>\n",
       "      <td>...</td>\n",
       "      <td>...</td>\n",
       "      <td>...</td>\n",
       "      <td>...</td>\n",
       "      <td>...</td>\n",
       "      <td>...</td>\n",
       "      <td>...</td>\n",
       "      <td>...</td>\n",
       "      <td>...</td>\n",
       "      <td>...</td>\n",
       "      <td>...</td>\n",
       "    </tr>\n",
       "    <tr>\n",
       "      <th>413</th>\n",
       "      <td>2.202765</td>\n",
       "      <td>0.000000</td>\n",
       "      <td>7.174724</td>\n",
       "      <td>1.386294</td>\n",
       "      <td>0.000000</td>\n",
       "      <td>0.000000</td>\n",
       "      <td>3</td>\n",
       "      <td>1126</td>\n",
       "      <td>1</td>\n",
       "      <td>0</td>\n",
       "      <td>711</td>\n",
       "      <td>NaN</td>\n",
       "    </tr>\n",
       "    <tr>\n",
       "      <th>414</th>\n",
       "      <td>4.699571</td>\n",
       "      <td>0.000000</td>\n",
       "      <td>7.175490</td>\n",
       "      <td>0.693147</td>\n",
       "      <td>0.000000</td>\n",
       "      <td>3.688879</td>\n",
       "      <td>1</td>\n",
       "      <td>891</td>\n",
       "      <td>0</td>\n",
       "      <td>65</td>\n",
       "      <td>834</td>\n",
       "      <td>NaN</td>\n",
       "    </tr>\n",
       "    <tr>\n",
       "      <th>415</th>\n",
       "      <td>2.110213</td>\n",
       "      <td>0.000000</td>\n",
       "      <td>7.176255</td>\n",
       "      <td>1.386294</td>\n",
       "      <td>0.000000</td>\n",
       "      <td>3.676301</td>\n",
       "      <td>3</td>\n",
       "      <td>1046</td>\n",
       "      <td>1</td>\n",
       "      <td>0</td>\n",
       "      <td>872</td>\n",
       "      <td>NaN</td>\n",
       "    </tr>\n",
       "    <tr>\n",
       "      <th>416</th>\n",
       "      <td>2.202765</td>\n",
       "      <td>0.000000</td>\n",
       "      <td>7.177019</td>\n",
       "      <td>1.386294</td>\n",
       "      <td>0.000000</td>\n",
       "      <td>0.000000</td>\n",
       "      <td>3</td>\n",
       "      <td>1227</td>\n",
       "      <td>1</td>\n",
       "      <td>0</td>\n",
       "      <td>579</td>\n",
       "      <td>NaN</td>\n",
       "    </tr>\n",
       "    <tr>\n",
       "      <th>417</th>\n",
       "      <td>3.150952</td>\n",
       "      <td>0.693147</td>\n",
       "      <td>7.177782</td>\n",
       "      <td>1.386294</td>\n",
       "      <td>0.693147</td>\n",
       "      <td>0.000000</td>\n",
       "      <td>1</td>\n",
       "      <td>953</td>\n",
       "      <td>1</td>\n",
       "      <td>0</td>\n",
       "      <td>262</td>\n",
       "      <td>NaN</td>\n",
       "    </tr>\n",
       "  </tbody>\n",
       "</table>\n",
       "<p>1309 rows × 12 columns</p>\n",
       "</div>"
      ],
      "text/plain": [
       "         Fare     SibSp  PassengerId    Pclass     Parch       Age  Embarked  \\\n",
       "0    2.110213  0.693147     0.693147  1.386294  0.000000  3.135494         3   \n",
       "1    4.280593  0.693147     1.098612  0.693147  0.000000  3.663562         1   \n",
       "2    2.188856  0.000000     1.386294  1.386294  0.000000  3.295837         3   \n",
       "3    3.990834  0.693147     1.609438  0.693147  0.000000  3.583519         3   \n",
       "4    2.202765  0.000000     1.791759  1.386294  0.000000  3.583519         3   \n",
       "..        ...       ...          ...       ...       ...       ...       ...   \n",
       "413  2.202765  0.000000     7.174724  1.386294  0.000000  0.000000         3   \n",
       "414  4.699571  0.000000     7.175490  0.693147  0.000000  3.688879         1   \n",
       "415  2.110213  0.000000     7.176255  1.386294  0.000000  3.676301         3   \n",
       "416  2.202765  0.000000     7.177019  1.386294  0.000000  0.000000         3   \n",
       "417  3.150952  0.693147     7.177782  1.386294  0.693147  0.000000         1   \n",
       "\n",
       "     Name  Sex  Cabin  Ticket  label  \n",
       "0     155    1      0     720    0.0  \n",
       "1     286    0    107     816    1.0  \n",
       "2     523    0      0     914    1.0  \n",
       "3     422    0     71      65    1.0  \n",
       "4      22    1      0     649    0.0  \n",
       "..    ...  ...    ...     ...    ...  \n",
       "413  1126    1      0     711    NaN  \n",
       "414   891    0     65     834    NaN  \n",
       "415  1046    1      0     872    NaN  \n",
       "416  1227    1      0     579    NaN  \n",
       "417   953    1      0     262    NaN  \n",
       "\n",
       "[1309 rows x 12 columns]"
      ]
     },
     "execution_count": 43,
     "metadata": {},
     "output_type": "execute_result"
    }
   ],
   "source": [
    "total_data"
   ]
  },
  {
   "cell_type": "code",
   "execution_count": 44,
   "metadata": {
    "ExecuteTime": {
     "end_time": "2020-08-30T02:01:47.816443Z",
     "start_time": "2020-08-30T02:01:47.813688Z"
    }
   },
   "outputs": [],
   "source": [
    "import tensorflow as tf"
   ]
  },
  {
   "cell_type": "code",
   "execution_count": 45,
   "metadata": {
    "ExecuteTime": {
     "end_time": "2020-08-30T02:01:47.830429Z",
     "start_time": "2020-08-30T02:01:47.818233Z"
    }
   },
   "outputs": [],
   "source": [
    "dense_inputs = []\n",
    "for f in dense_feature:\n",
    "    _input = tf.keras.layers.Input([1], name=f)\n",
    "    dense_inputs.append(_input)"
   ]
  },
  {
   "cell_type": "code",
   "execution_count": 46,
   "metadata": {
    "ExecuteTime": {
     "end_time": "2020-08-30T02:01:47.836113Z",
     "start_time": "2020-08-30T02:01:47.832198Z"
    }
   },
   "outputs": [
    {
     "data": {
      "text/plain": [
       "[<tf.Tensor 'Fare_1:0' shape=(None, 1) dtype=float32>,\n",
       " <tf.Tensor 'SibSp_1:0' shape=(None, 1) dtype=float32>,\n",
       " <tf.Tensor 'PassengerId_1:0' shape=(None, 1) dtype=float32>,\n",
       " <tf.Tensor 'Pclass_1:0' shape=(None, 1) dtype=float32>,\n",
       " <tf.Tensor 'Parch_1:0' shape=(None, 1) dtype=float32>,\n",
       " <tf.Tensor 'Age_1:0' shape=(None, 1) dtype=float32>]"
      ]
     },
     "execution_count": 46,
     "metadata": {},
     "output_type": "execute_result"
    }
   ],
   "source": [
    "dense_inputs"
   ]
  },
  {
   "cell_type": "code",
   "execution_count": 48,
   "metadata": {
    "ExecuteTime": {
     "end_time": "2020-08-30T02:02:14.859208Z",
     "start_time": "2020-08-30T02:02:14.816170Z"
    }
   },
   "outputs": [
    {
     "name": "stdout",
     "output_type": "stream",
     "text": [
      "Model: \"functional_7\"\n",
      "__________________________________________________________________________________________________\n",
      "Layer (type)                    Output Shape         Param #     Connected to                     \n",
      "==================================================================================================\n",
      "Fare (InputLayer)               [(None, 1)]          0                                            \n",
      "__________________________________________________________________________________________________\n",
      "SibSp (InputLayer)              [(None, 1)]          0                                            \n",
      "__________________________________________________________________________________________________\n",
      "PassengerId (InputLayer)        [(None, 1)]          0                                            \n",
      "__________________________________________________________________________________________________\n",
      "Pclass (InputLayer)             [(None, 1)]          0                                            \n",
      "__________________________________________________________________________________________________\n",
      "Parch (InputLayer)              [(None, 1)]          0                                            \n",
      "__________________________________________________________________________________________________\n",
      "Age (InputLayer)                [(None, 1)]          0                                            \n",
      "__________________________________________________________________________________________________\n",
      "concatenate_3 (Concatenate)     (None, 6)            0           Fare[0][0]                       \n",
      "                                                                 SibSp[0][0]                      \n",
      "                                                                 PassengerId[0][0]                \n",
      "                                                                 Pclass[0][0]                     \n",
      "                                                                 Parch[0][0]                      \n",
      "                                                                 Age[0][0]                        \n",
      "__________________________________________________________________________________________________\n",
      "dense_3 (Dense)                 (None, 1)            7           concatenate_3[0][0]              \n",
      "==================================================================================================\n",
      "Total params: 7\n",
      "Trainable params: 7\n",
      "Non-trainable params: 0\n",
      "__________________________________________________________________________________________________\n"
     ]
    }
   ],
   "source": [
    "# 线性模型\n",
    "concat_dense_inputs = tf.keras.layers.Concatenate(axis=1)(dense_inputs)\n",
    "fst_order_dense_layer = tf.keras.layers.Dense(1)(concat_dense_inputs)\n",
    "liner_model = tf.keras.models.Model(dense_inputs, fst_order_dense_layer)\n",
    "liner_model.summary()"
   ]
  },
  {
   "cell_type": "code",
   "execution_count": 49,
   "metadata": {
    "ExecuteTime": {
     "end_time": "2020-08-30T02:02:18.075248Z",
     "start_time": "2020-08-30T02:02:18.056906Z"
    }
   },
   "outputs": [
    {
     "data": {
      "text/plain": [
       "[<tf.Tensor 'Embarked:0' shape=(None, 1) dtype=float32>,\n",
       " <tf.Tensor 'Name:0' shape=(None, 1) dtype=float32>,\n",
       " <tf.Tensor 'Sex:0' shape=(None, 1) dtype=float32>,\n",
       " <tf.Tensor 'Cabin:0' shape=(None, 1) dtype=float32>,\n",
       " <tf.Tensor 'Ticket:0' shape=(None, 1) dtype=float32>]"
      ]
     },
     "execution_count": 49,
     "metadata": {},
     "output_type": "execute_result"
    }
   ],
   "source": [
    "sparse_inputs = []\n",
    "for f in sparse_feature:\n",
    "    _input = tf.keras.layers.Input([1], name=f)\n",
    "    sparse_inputs.append(_input)\n",
    "sparse_inputs"
   ]
  },
  {
   "cell_type": "code",
   "execution_count": 50,
   "metadata": {
    "ExecuteTime": {
     "end_time": "2020-08-30T02:02:19.107930Z",
     "start_time": "2020-08-30T02:02:19.048007Z"
    }
   },
   "outputs": [
    {
     "data": {
      "text/plain": [
       "[<tf.Tensor 'Embarked_flatten/Reshape:0' shape=(None, 1) dtype=float32>,\n",
       " <tf.Tensor 'Name_flatten/Reshape:0' shape=(None, 1) dtype=float32>,\n",
       " <tf.Tensor 'Sex_flatten/Reshape:0' shape=(None, 1) dtype=float32>,\n",
       " <tf.Tensor 'Cabin_flatten/Reshape:0' shape=(None, 1) dtype=float32>,\n",
       " <tf.Tensor 'Ticket_flatten/Reshape:0' shape=(None, 1) dtype=float32>]"
      ]
     },
     "execution_count": 50,
     "metadata": {},
     "output_type": "execute_result"
    }
   ],
   "source": [
    "import math\n",
    "sparse_1d_embed = []\n",
    "for _input in sparse_inputs:\n",
    "    f = _input.name.split(':')[0]\n",
    "    voc_size = data[f].nunique()\n",
    "    _embed = tf.keras.layers.Flatten(name=f+\"_flatten\")(tf.keras.layers.Embedding(voc_size+1, 1, embeddings_regularizer=tf.keras.regularizers.l2(0.5))(_input))\n",
    "    sparse_1d_embed.append(_embed)\n",
    "sparse_1d_embed"
   ]
  },
  {
   "cell_type": "code",
   "execution_count": 51,
   "metadata": {
    "ExecuteTime": {
     "end_time": "2020-08-30T02:02:20.755816Z",
     "start_time": "2020-08-30T02:02:20.744274Z"
    }
   },
   "outputs": [],
   "source": [
    "fst_order_sparse_layer = tf.keras.layers.Add()(sparse_1d_embed)\n",
    "# tf.keras.models.Model(sparse_inputs, fst_order_sparse_layer).summary()"
   ]
  },
  {
   "cell_type": "code",
   "execution_count": 52,
   "metadata": {
    "ExecuteTime": {
     "end_time": "2020-08-30T02:02:21.862982Z",
     "start_time": "2020-08-30T02:02:21.823823Z"
    }
   },
   "outputs": [
    {
     "data": {
      "text/plain": [
       "[<tf.Tensor 'embedding_5/embedding_lookup/Identity_1:0' shape=(None, 1, 8) dtype=float32>,\n",
       " <tf.Tensor 'embedding_6/embedding_lookup/Identity_1:0' shape=(None, 1, 8) dtype=float32>,\n",
       " <tf.Tensor 'embedding_7/embedding_lookup/Identity_1:0' shape=(None, 1, 8) dtype=float32>,\n",
       " <tf.Tensor 'embedding_8/embedding_lookup/Identity_1:0' shape=(None, 1, 8) dtype=float32>,\n",
       " <tf.Tensor 'embedding_9/embedding_lookup/Identity_1:0' shape=(None, 1, 8) dtype=float32>]"
      ]
     },
     "execution_count": 52,
     "metadata": {},
     "output_type": "execute_result"
    }
   ],
   "source": [
    "k = 8\n",
    "# 只考虑sparse的二阶交叉\n",
    "sparse_kd_embed = []\n",
    "for feat, _input in enumerate(sparse_inputs):\n",
    "    f = sparse_feature[feat]\n",
    "    voc_size = data[f].nunique()\n",
    "    _embed = tf.keras.layers.Embedding(voc_size+1, k, embeddings_regularizer=tf.keras.regularizers.l2(0.7))(_input)\n",
    "    sparse_kd_embed.append(_embed)\n",
    "sparse_kd_embed"
   ]
  },
  {
   "cell_type": "code",
   "execution_count": 53,
   "metadata": {
    "ExecuteTime": {
     "end_time": "2020-08-30T02:02:23.371521Z",
     "start_time": "2020-08-30T02:02:23.361405Z"
    }
   },
   "outputs": [],
   "source": [
    "concat_sparse_kd_embed = tf.keras.layers.Concatenate(axis=1)(sparse_kd_embed) "
   ]
  },
  {
   "cell_type": "code",
   "execution_count": 54,
   "metadata": {
    "ExecuteTime": {
     "end_time": "2020-08-30T02:02:24.985372Z",
     "start_time": "2020-08-30T02:02:24.969627Z"
    }
   },
   "outputs": [],
   "source": [
    "import tensorflow.keras.backend as K\n",
    "sum_kd_embed = tf.keras.layers.Lambda(lambda x: K.sum(x, axis=1))(concat_sparse_kd_embed)  # ?, k\n",
    "square_sum_kd_embed = tf.keras.layers.Multiply()([sum_kd_embed, sum_kd_embed])  # ?, k"
   ]
  },
  {
   "cell_type": "code",
   "execution_count": 55,
   "metadata": {
    "ExecuteTime": {
     "end_time": "2020-08-30T02:02:26.717276Z",
     "start_time": "2020-08-30T02:02:26.416041Z"
    }
   },
   "outputs": [],
   "source": [
    "import matplotlib.pyplot as plt\n",
    "%matplotlib inline\n",
    "from tensorflow.keras.layers import *\n",
    "\n",
    "square_kd_embed = Multiply()([concat_sparse_kd_embed, concat_sparse_kd_embed]) # ?, n, k\n",
    "sum_square_kd_embed = Lambda(lambda x: K.sum(x, axis=1))(square_kd_embed) "
   ]
  },
  {
   "cell_type": "code",
   "execution_count": 56,
   "metadata": {
    "ExecuteTime": {
     "end_time": "2020-08-30T02:02:28.176038Z",
     "start_time": "2020-08-30T02:02:28.159772Z"
    }
   },
   "outputs": [],
   "source": [
    "sub = Subtract()([square_sum_kd_embed, sum_square_kd_embed])\n",
    "sub = Lambda(lambda x: x*0.5)(sub)\n",
    "snd_order_sparse_layer = Lambda(lambda x: K.sum(x, axis=1, keepdims=True))(sub)"
   ]
  },
  {
   "cell_type": "code",
   "execution_count": 57,
   "metadata": {
    "ExecuteTime": {
     "end_time": "2020-08-30T02:02:29.478363Z",
     "start_time": "2020-08-30T02:02:29.469614Z"
    }
   },
   "outputs": [],
   "source": [
    "linear_part = Add()([fst_order_dense_layer, fst_order_sparse_layer])\n",
    "interaction_part = snd_order_sparse_layer"
   ]
  },
  {
   "cell_type": "code",
   "execution_count": 58,
   "metadata": {
    "ExecuteTime": {
     "end_time": "2020-08-30T02:02:30.267509Z",
     "start_time": "2020-08-30T02:02:30.256088Z"
    }
   },
   "outputs": [],
   "source": [
    "logits = Add()([linear_part, interaction_part])\n",
    "output_layer = Activation(\"sigmoid\")(logits)"
   ]
  },
  {
   "cell_type": "code",
   "execution_count": 59,
   "metadata": {
    "ExecuteTime": {
     "end_time": "2020-08-30T02:02:31.580794Z",
     "start_time": "2020-08-30T02:02:31.575990Z"
    }
   },
   "outputs": [],
   "source": [
    "from tensorflow.keras.models import Model\n",
    "from tensorflow.keras.utils import plot_model"
   ]
  },
  {
   "cell_type": "code",
   "execution_count": 60,
   "metadata": {
    "ExecuteTime": {
     "end_time": "2020-08-30T02:02:32.637030Z",
     "start_time": "2020-08-30T02:02:32.592478Z"
    }
   },
   "outputs": [
    {
     "name": "stdout",
     "output_type": "stream",
     "text": [
      "Model: \"functional_9\"\n",
      "__________________________________________________________________________________________________\n",
      "Layer (type)                    Output Shape         Param #     Connected to                     \n",
      "==================================================================================================\n",
      "Embarked (InputLayer)           [(None, 1)]          0                                            \n",
      "__________________________________________________________________________________________________\n",
      "Name (InputLayer)               [(None, 1)]          0                                            \n",
      "__________________________________________________________________________________________________\n",
      "Sex (InputLayer)                [(None, 1)]          0                                            \n",
      "__________________________________________________________________________________________________\n",
      "Cabin (InputLayer)              [(None, 1)]          0                                            \n",
      "__________________________________________________________________________________________________\n",
      "Ticket (InputLayer)             [(None, 1)]          0                                            \n",
      "__________________________________________________________________________________________________\n",
      "embedding_5 (Embedding)         (None, 1, 8)         32          Embarked[0][0]                   \n",
      "__________________________________________________________________________________________________\n",
      "embedding_6 (Embedding)         (None, 1, 8)         10464       Name[0][0]                       \n",
      "__________________________________________________________________________________________________\n",
      "embedding_7 (Embedding)         (None, 1, 8)         24          Sex[0][0]                        \n",
      "__________________________________________________________________________________________________\n",
      "embedding_8 (Embedding)         (None, 1, 8)         1496        Cabin[0][0]                      \n",
      "__________________________________________________________________________________________________\n",
      "embedding_9 (Embedding)         (None, 1, 8)         7440        Ticket[0][0]                     \n",
      "__________________________________________________________________________________________________\n",
      "concatenate_4 (Concatenate)     (None, 5, 8)         0           embedding_5[0][0]                \n",
      "                                                                 embedding_6[0][0]                \n",
      "                                                                 embedding_7[0][0]                \n",
      "                                                                 embedding_8[0][0]                \n",
      "                                                                 embedding_9[0][0]                \n",
      "__________________________________________________________________________________________________\n",
      "lambda (Lambda)                 (None, 8)            0           concatenate_4[0][0]              \n",
      "__________________________________________________________________________________________________\n",
      "multiply_1 (Multiply)           (None, 5, 8)         0           concatenate_4[0][0]              \n",
      "                                                                 concatenate_4[0][0]              \n",
      "__________________________________________________________________________________________________\n",
      "Fare (InputLayer)               [(None, 1)]          0                                            \n",
      "__________________________________________________________________________________________________\n",
      "SibSp (InputLayer)              [(None, 1)]          0                                            \n",
      "__________________________________________________________________________________________________\n",
      "PassengerId (InputLayer)        [(None, 1)]          0                                            \n",
      "__________________________________________________________________________________________________\n",
      "Pclass (InputLayer)             [(None, 1)]          0                                            \n",
      "__________________________________________________________________________________________________\n",
      "Parch (InputLayer)              [(None, 1)]          0                                            \n",
      "__________________________________________________________________________________________________\n",
      "Age (InputLayer)                [(None, 1)]          0                                            \n",
      "__________________________________________________________________________________________________\n",
      "embedding (Embedding)           (None, 1, 1)         4           Embarked[0][0]                   \n",
      "__________________________________________________________________________________________________\n",
      "embedding_1 (Embedding)         (None, 1, 1)         1308        Name[0][0]                       \n",
      "__________________________________________________________________________________________________\n",
      "embedding_2 (Embedding)         (None, 1, 1)         3           Sex[0][0]                        \n",
      "__________________________________________________________________________________________________\n",
      "embedding_3 (Embedding)         (None, 1, 1)         187         Cabin[0][0]                      \n",
      "__________________________________________________________________________________________________\n",
      "embedding_4 (Embedding)         (None, 1, 1)         930         Ticket[0][0]                     \n",
      "__________________________________________________________________________________________________\n",
      "multiply (Multiply)             (None, 8)            0           lambda[0][0]                     \n",
      "                                                                 lambda[0][0]                     \n",
      "__________________________________________________________________________________________________\n",
      "lambda_1 (Lambda)               (None, 8)            0           multiply_1[0][0]                 \n",
      "__________________________________________________________________________________________________\n",
      "concatenate_3 (Concatenate)     (None, 6)            0           Fare[0][0]                       \n",
      "                                                                 SibSp[0][0]                      \n",
      "                                                                 PassengerId[0][0]                \n",
      "                                                                 Pclass[0][0]                     \n",
      "                                                                 Parch[0][0]                      \n",
      "                                                                 Age[0][0]                        \n",
      "__________________________________________________________________________________________________\n",
      "Embarked_flatten (Flatten)      (None, 1)            0           embedding[0][0]                  \n",
      "__________________________________________________________________________________________________\n",
      "Name_flatten (Flatten)          (None, 1)            0           embedding_1[0][0]                \n",
      "__________________________________________________________________________________________________\n",
      "Sex_flatten (Flatten)           (None, 1)            0           embedding_2[0][0]                \n",
      "__________________________________________________________________________________________________\n",
      "Cabin_flatten (Flatten)         (None, 1)            0           embedding_3[0][0]                \n",
      "__________________________________________________________________________________________________\n",
      "Ticket_flatten (Flatten)        (None, 1)            0           embedding_4[0][0]                \n",
      "__________________________________________________________________________________________________\n",
      "subtract (Subtract)             (None, 8)            0           multiply[0][0]                   \n",
      "                                                                 lambda_1[0][0]                   \n",
      "__________________________________________________________________________________________________\n",
      "dense_3 (Dense)                 (None, 1)            7           concatenate_3[0][0]              \n",
      "__________________________________________________________________________________________________\n",
      "add (Add)                       (None, 1)            0           Embarked_flatten[0][0]           \n",
      "                                                                 Name_flatten[0][0]               \n",
      "                                                                 Sex_flatten[0][0]                \n",
      "                                                                 Cabin_flatten[0][0]              \n",
      "                                                                 Ticket_flatten[0][0]             \n",
      "__________________________________________________________________________________________________\n",
      "lambda_2 (Lambda)               (None, 8)            0           subtract[0][0]                   \n",
      "__________________________________________________________________________________________________\n",
      "add_1 (Add)                     (None, 1)            0           dense_3[0][0]                    \n",
      "                                                                 add[0][0]                        \n",
      "__________________________________________________________________________________________________\n",
      "lambda_3 (Lambda)               (None, 1)            0           lambda_2[0][0]                   \n",
      "__________________________________________________________________________________________________\n",
      "add_2 (Add)                     (None, 1)            0           add_1[0][0]                      \n",
      "                                                                 lambda_3[0][0]                   \n",
      "__________________________________________________________________________________________________\n",
      "activation (Activation)         (None, 1)            0           add_2[0][0]                      \n",
      "==================================================================================================\n",
      "Total params: 21,895\n",
      "Trainable params: 21,895\n",
      "Non-trainable params: 0\n",
      "__________________________________________________________________________________________________\n"
     ]
    }
   ],
   "source": [
    "model = Model(dense_inputs+sparse_inputs, output_layer)\n",
    "model.summary()"
   ]
  },
  {
   "cell_type": "code",
   "execution_count": 61,
   "metadata": {
    "ExecuteTime": {
     "end_time": "2020-08-30T02:02:36.825291Z",
     "start_time": "2020-08-30T02:02:36.376047Z"
    }
   },
   "outputs": [
    {
     "data": {
      "image/png": "[encoded data removed]",
      "text/plain": [
       "<IPython.core.display.Image object>"
      ]
     },
     "execution_count": 61,
     "metadata": {},
     "output_type": "execute_result"
    }
   ],
   "source": [
    "plot_model(model, \"fm_model.png\", show_shapes=True)"
   ]
  },
  {
   "cell_type": "code",
   "execution_count": 62,
   "metadata": {
    "ExecuteTime": {
     "end_time": "2020-08-30T02:02:40.733804Z",
     "start_time": "2020-08-30T02:02:39.352894Z"
    }
   },
   "outputs": [
    {
     "name": "stdout",
     "output_type": "stream",
     "text": [
      "Looking in indexes: https://pypi.doubanio.com/simple\n",
      "Requirement already satisfied: pydot in /home/yons/.pyenv/versions/3.7.4/envs/py37/lib/python3.7/site-packages (1.4.1)\n",
      "Requirement already satisfied: pyparsing>=2.1.4 in /home/yons/.pyenv/versions/3.7.4/envs/py37/lib/python3.7/site-packages (from pydot) (2.4.7)\n"
     ]
    }
   ],
   "source": [
    "! pip install pydot"
   ]
  },
  {
   "cell_type": "code",
   "execution_count": 63,
   "metadata": {
    "ExecuteTime": {
     "end_time": "2020-08-30T02:02:41.407091Z",
     "start_time": "2020-08-30T02:02:41.376387Z"
    }
   },
   "outputs": [],
   "source": [
    "model.compile(optimizer=\"adam\", \n",
    "              loss=\"binary_crossentropy\", \n",
    "              metrics=[\"binary_crossentropy\", tf.keras.metrics.AUC(name='auc')])"
   ]
  },
  {
   "cell_type": "code",
   "execution_count": 64,
   "metadata": {
    "ExecuteTime": {
     "end_time": "2020-08-30T02:02:43.300185Z",
     "start_time": "2020-08-30T02:02:43.295553Z"
    }
   },
   "outputs": [],
   "source": [
    "from tensorflow.keras.callbacks import TensorBoard"
   ]
  },
  {
   "cell_type": "code",
   "execution_count": 65,
   "metadata": {
    "ExecuteTime": {
     "end_time": "2020-08-30T02:02:45.315991Z",
     "start_time": "2020-08-30T02:02:45.127648Z"
    }
   },
   "outputs": [
    {
     "name": "stdout",
     "output_type": "stream",
     "text": [
      "WARNING:tensorflow:`write_grads` will be ignored in TensorFlow 2.0 for the `TensorBoard` Callback.\n"
     ]
    }
   ],
   "source": [
    "tbCallBack = TensorBoard(log_dir='./logs',  # log 目录\n",
    "                 histogram_freq=0,  # 按照何等频率（epoch）来计算直方图，0为不计算\n",
    "                 write_graph=True,  # 是否存储网络结构图\n",
    "                 write_grads=True, # 是否可视化梯度直方图\n",
    "                 write_images=True,# 是否可视化参数\n",
    "                 embeddings_freq=0, \n",
    "                 embeddings_layer_names=None, \n",
    "                 embeddings_metadata=None)"
   ]
  },
  {
   "cell_type": "code",
   "execution_count": 66,
   "metadata": {
    "ExecuteTime": {
     "end_time": "2020-08-30T02:02:49.482504Z",
     "start_time": "2020-08-30T02:02:49.470233Z"
    }
   },
   "outputs": [],
   "source": [
    "test_data = total_data[total_data[\"label\"].isna()]\n",
    "train_data = total_data[total_data[\"label\"].notna()]\n",
    "valid_data = train_data.loc[750:]\n",
    "train_data = train_data.loc[:750 - 1] # 闭区间"
   ]
  },
  {
   "cell_type": "code",
   "execution_count": 67,
   "metadata": {
    "ExecuteTime": {
     "end_time": "2020-08-30T02:02:50.251628Z",
     "start_time": "2020-08-30T02:02:50.245219Z"
    }
   },
   "outputs": [],
   "source": [
    "train_dense_x = [train_data[f].values for f in dense_feature]\n",
    "train_sparse_x = [train_data[f].values for f in sparse_feature]"
   ]
  },
  {
   "cell_type": "code",
   "execution_count": 68,
   "metadata": {
    "ExecuteTime": {
     "end_time": "2020-08-30T02:02:51.749519Z",
     "start_time": "2020-08-30T02:02:51.744742Z"
    }
   },
   "outputs": [],
   "source": [
    "train_label = [train_data['label'].values]"
   ]
  },
  {
   "cell_type": "code",
   "execution_count": 69,
   "metadata": {
    "ExecuteTime": {
     "end_time": "2020-08-30T02:02:52.559412Z",
     "start_time": "2020-08-30T02:02:52.543530Z"
    }
   },
   "outputs": [
    {
     "data": {
      "text/plain": [
       "[array([0., 1., 1., 1., 0., 0., 0., 0., 1., 1., 1., 1., 0., 0., 0., 1., 0.,\n",
       "        1., 0., 1., 0., 1., 1., 1., 0., 1., 0., 0., 1., 0., 0., 1., 1., 0.,\n",
       "        0., 0., 1., 0., 0., 1., 0., 0., 0., 1., 1., 0., 0., 1., 0., 0., 0.,\n",
       "        0., 1., 1., 0., 1., 1., 0., 1., 0., 0., 1., 0., 0., 0., 1., 1., 0.,\n",
       "        1., 0., 0., 0., 0., 0., 1., 0., 0., 0., 1., 1., 0., 1., 1., 0., 1.,\n",
       "        1., 0., 0., 1., 0., 0., 0., 0., 0., 0., 0., 0., 1., 1., 0., 0., 0.,\n",
       "        0., 0., 0., 0., 1., 1., 0., 1., 0., 0., 0., 0., 0., 0., 0., 0., 0.,\n",
       "        0., 0., 0., 0., 1., 0., 1., 0., 1., 1., 0., 0., 0., 0., 1., 0., 0.,\n",
       "        1., 0., 0., 0., 0., 1., 1., 0., 0., 0., 1., 0., 0., 0., 0., 1., 0.,\n",
       "        0., 0., 0., 1., 0., 0., 0., 0., 1., 0., 0., 0., 1., 1., 0., 0., 0.,\n",
       "        0., 0., 1., 0., 0., 0., 0., 0., 0., 0., 0., 0., 0., 1., 1., 0., 1.,\n",
       "        1., 0., 0., 1., 0., 1., 1., 1., 1., 0., 0., 1., 0., 0., 0., 0., 0.,\n",
       "        1., 0., 0., 1., 1., 1., 0., 1., 0., 0., 0., 1., 1., 0., 1., 0., 1.,\n",
       "        0., 0., 0., 1., 0., 1., 0., 0., 0., 1., 0., 0., 1., 0., 0., 0., 1.,\n",
       "        0., 0., 0., 1., 0., 0., 0., 0., 0., 1., 1., 0., 0., 0., 0., 0., 0.,\n",
       "        1., 1., 1., 1., 1., 0., 1., 0., 0., 0., 0., 0., 1., 1., 1., 0., 1.,\n",
       "        1., 0., 1., 1., 0., 0., 0., 1., 0., 0., 0., 1., 0., 0., 1., 0., 1.,\n",
       "        1., 1., 1., 0., 0., 0., 0., 0., 0., 1., 1., 1., 1., 0., 1., 0., 1.,\n",
       "        1., 1., 0., 1., 1., 1., 0., 0., 0., 1., 1., 0., 1., 1., 0., 0., 1.,\n",
       "        1., 0., 1., 0., 1., 1., 1., 1., 0., 0., 0., 1., 0., 0., 1., 1., 0.,\n",
       "        1., 1., 0., 0., 0., 1., 1., 1., 1., 0., 0., 0., 0., 0., 0., 0., 1.,\n",
       "        0., 1., 1., 0., 0., 0., 0., 0., 0., 1., 1., 1., 1., 1., 0., 0., 0.,\n",
       "        0., 1., 1., 0., 0., 0., 1., 1., 0., 1., 0., 0., 0., 1., 0., 1., 1.,\n",
       "        1., 0., 1., 1., 0., 0., 0., 0., 1., 1., 0., 0., 0., 0., 0., 0., 1.,\n",
       "        0., 0., 0., 0., 1., 0., 1., 0., 1., 1., 0., 0., 0., 0., 0., 0., 0.,\n",
       "        0., 1., 1., 0., 1., 1., 1., 1., 0., 0., 1., 0., 1., 0., 0., 1., 0.,\n",
       "        0., 1., 1., 1., 1., 1., 1., 1., 0., 0., 0., 1., 0., 1., 0., 1., 1.,\n",
       "        0., 1., 0., 0., 0., 0., 0., 0., 0., 0., 1., 0., 0., 1., 1., 0., 0.,\n",
       "        0., 0., 0., 1., 0., 0., 0., 1., 1., 0., 1., 0., 0., 1., 0., 0., 0.,\n",
       "        0., 0., 0., 1., 0., 0., 0., 0., 0., 0., 0., 1., 0., 1., 1., 0., 1.,\n",
       "        1., 0., 1., 1., 0., 0., 1., 0., 1., 0., 1., 0., 0., 1., 0., 0., 1.,\n",
       "        0., 0., 0., 1., 0., 0., 1., 0., 1., 0., 1., 0., 1., 1., 0., 0., 1.,\n",
       "        0., 0., 1., 1., 0., 1., 1., 0., 0., 1., 1., 0., 1., 0., 1., 1., 0.,\n",
       "        0., 0., 0., 0., 0., 0., 0., 0., 1., 1., 1., 1., 1., 0., 0., 1., 1.,\n",
       "        0., 1., 1., 1., 0., 0., 0., 1., 0., 1., 0., 0., 0., 1., 0., 0., 0.,\n",
       "        0., 1., 0., 0., 1., 1., 0., 0., 0., 1., 0., 0., 1., 1., 1., 0., 0.,\n",
       "        1., 0., 0., 1., 0., 0., 1., 0., 0., 1., 1., 0., 0., 0., 0., 1., 0.,\n",
       "        0., 1., 0., 1., 0., 0., 1., 0., 0., 0., 0., 0., 1., 0., 1., 1., 1.,\n",
       "        0., 1., 0., 1., 0., 1., 0., 1., 0., 0., 0., 0., 0., 0., 1., 0., 0.,\n",
       "        0., 1., 0., 0., 0., 0., 1., 1., 0., 0., 1., 0., 0., 0., 1., 0., 1.,\n",
       "        0., 1., 0., 0., 0., 0., 0., 0., 0., 1., 1., 1., 1., 0., 0., 0., 0.,\n",
       "        1., 0., 0., 1., 1., 0., 0., 0., 0., 1., 1., 1., 1., 1., 0., 1., 0.,\n",
       "        0., 0., 1., 1., 0., 0., 1., 0., 0., 0., 1., 0., 1., 1., 0., 0., 1.,\n",
       "        0., 0., 0., 0., 0., 0., 1., 0., 0., 1., 0., 1., 0., 1., 0., 0., 1.,\n",
       "        0., 0.])]"
      ]
     },
     "execution_count": 69,
     "metadata": {},
     "output_type": "execute_result"
    }
   ],
   "source": [
    "train_label"
   ]
  },
  {
   "cell_type": "code",
   "execution_count": 70,
   "metadata": {
    "ExecuteTime": {
     "end_time": "2020-08-30T02:02:55.159812Z",
     "start_time": "2020-08-30T02:02:55.153365Z"
    }
   },
   "outputs": [],
   "source": [
    "val_dense_x = [valid_data[f].values for f in dense_feature]\n",
    "val_sparse_x = [valid_data[f].values for f in sparse_feature]"
   ]
  },
  {
   "cell_type": "code",
   "execution_count": 71,
   "metadata": {
    "ExecuteTime": {
     "end_time": "2020-08-30T02:02:55.858161Z",
     "start_time": "2020-08-30T02:02:55.853589Z"
    }
   },
   "outputs": [],
   "source": [
    "val_label = [valid_data['label'].values]"
   ]
  },
  {
   "cell_type": "code",
   "execution_count": 72,
   "metadata": {
    "ExecuteTime": {
     "end_time": "2020-08-30T02:03:02.538648Z",
     "start_time": "2020-08-30T02:02:56.447107Z"
    }
   },
   "outputs": [
    {
     "name": "stdout",
     "output_type": "stream",
     "text": [
      "Epoch 1/50\n"
     ]
    },
    {
     "name": "stderr",
     "output_type": "stream",
     "text": [
      "/home/yons/.pyenv/versions/3.7.4/envs/py37/lib/python3.7/site-packages/tensorflow/python/framework/indexed_slices.py:432: UserWarning: Converting sparse IndexedSlices to a dense Tensor of unknown shape. This may consume a large amount of memory.\n",
      "  \"Converting sparse IndexedSlices to a dense Tensor of unknown shape. \"\n"
     ]
    },
    {
     "name": "stdout",
     "output_type": "stream",
     "text": [
      "1/3 [=========>....................] - ETA: 0s - loss: 13.5734 - binary_crossentropy: 1.1789 - auc: 0.6203WARNING:tensorflow:From /home/yons/.pyenv/versions/3.7.4/envs/py37/lib/python3.7/site-packages/tensorflow/python/ops/summary_ops_v2.py:1277: stop (from tensorflow.python.eager.profiler) is deprecated and will be removed after 2020-07-01.\n",
      "Instructions for updating:\n",
      "use `tf.profiler.experimental.stop` instead.\n",
      "2/3 [===================>..........] - ETA: 0s - loss: 13.1820 - binary_crossentropy: 1.1514 - auc: 0.6156WARNING:tensorflow:Callbacks method `on_train_batch_end` is slow compared to the batch time (batch time: 0.0166s vs `on_train_batch_end` time: 0.0640s). Check your callbacks.\n",
      "3/3 [==============================] - 1s 177ms/step - loss: 12.8599 - binary_crossentropy: 1.1662 - auc: 0.6215 - val_loss: 11.5221 - val_binary_crossentropy: 1.2213 - val_auc: 0.6646\n",
      "Epoch 2/50\n",
      "3/3 [==============================] - 0s 18ms/step - loss: 10.8375 - binary_crossentropy: 1.1509 - auc: 0.6155 - val_loss: 9.6758 - val_binary_crossentropy: 1.2044 - val_auc: 0.6633\n",
      "Epoch 3/50\n",
      "3/3 [==============================] - 0s 19ms/step - loss: 9.0757 - binary_crossentropy: 1.1353 - auc: 0.6168 - val_loss: 8.0813 - val_binary_crossentropy: 1.1876 - val_auc: 0.6629\n",
      "Epoch 4/50\n",
      "3/3 [==============================] - 0s 20ms/step - loss: 7.5602 - binary_crossentropy: 1.1201 - auc: 0.6160 - val_loss: 6.7209 - val_binary_crossentropy: 1.1710 - val_auc: 0.6623\n",
      "Epoch 5/50\n",
      "3/3 [==============================] - 0s 19ms/step - loss: 6.2720 - binary_crossentropy: 1.1048 - auc: 0.6167 - val_loss: 5.5738 - val_binary_crossentropy: 1.1546 - val_auc: 0.6561\n",
      "Epoch 6/50\n",
      "3/3 [==============================] - 0s 17ms/step - loss: 5.1900 - binary_crossentropy: 1.0897 - auc: 0.6225 - val_loss: 4.6177 - val_binary_crossentropy: 1.1383 - val_auc: 0.6609\n",
      "Epoch 7/50\n",
      "3/3 [==============================] - 0s 18ms/step - loss: 4.2921 - binary_crossentropy: 1.0753 - auc: 0.6215 - val_loss: 3.8301 - val_binary_crossentropy: 1.1223 - val_auc: 0.6674\n",
      "Epoch 8/50\n",
      "3/3 [==============================] - 0s 18ms/step - loss: 3.5549 - binary_crossentropy: 1.0605 - auc: 0.6205 - val_loss: 3.1888 - val_binary_crossentropy: 1.1065 - val_auc: 0.6729\n",
      "Epoch 9/50\n",
      "3/3 [==============================] - 0s 20ms/step - loss: 2.9577 - binary_crossentropy: 1.0466 - auc: 0.6193 - val_loss: 2.6726 - val_binary_crossentropy: 1.0909 - val_auc: 0.6656\n",
      "Epoch 10/50\n",
      "3/3 [==============================] - 0s 19ms/step - loss: 2.4783 - binary_crossentropy: 1.0322 - auc: 0.6228 - val_loss: 2.2620 - val_binary_crossentropy: 1.0757 - val_auc: 0.6645\n",
      "Epoch 11/50\n",
      "3/3 [==============================] - 0s 20ms/step - loss: 2.0988 - binary_crossentropy: 1.0185 - auc: 0.6230 - val_loss: 1.9389 - val_binary_crossentropy: 1.0607 - val_auc: 0.6716\n",
      "Epoch 12/50\n",
      "3/3 [==============================] - 0s 19ms/step - loss: 1.8014 - binary_crossentropy: 1.0049 - auc: 0.6223 - val_loss: 1.6875 - val_binary_crossentropy: 1.0461 - val_auc: 0.6708\n",
      "Epoch 13/50\n",
      "3/3 [==============================] - 0s 19ms/step - loss: 1.5713 - binary_crossentropy: 0.9919 - auc: 0.6234 - val_loss: 1.4941 - val_binary_crossentropy: 1.0318 - val_auc: 0.6703\n",
      "Epoch 14/50\n",
      "3/3 [==============================] - 0s 19ms/step - loss: 1.3954 - binary_crossentropy: 0.9795 - auc: 0.6248 - val_loss: 1.3465 - val_binary_crossentropy: 1.0176 - val_auc: 0.6681\n",
      "Epoch 15/50\n",
      "3/3 [==============================] - 0s 18ms/step - loss: 1.2618 - binary_crossentropy: 0.9670 - auc: 0.6244 - val_loss: 1.2349 - val_binary_crossentropy: 1.0038 - val_auc: 0.6685\n",
      "Epoch 16/50\n",
      "3/3 [==============================] - 0s 19ms/step - loss: 1.1611 - binary_crossentropy: 0.9545 - auc: 0.6241 - val_loss: 1.1513 - val_binary_crossentropy: 0.9904 - val_auc: 0.6721\n",
      "Epoch 17/50\n",
      "3/3 [==============================] - 0s 19ms/step - loss: 1.0862 - binary_crossentropy: 0.9427 - auc: 0.6252 - val_loss: 1.0886 - val_binary_crossentropy: 0.9772 - val_auc: 0.6739\n",
      "Epoch 18/50\n",
      "3/3 [==============================] - 0s 18ms/step - loss: 1.0304 - binary_crossentropy: 0.9311 - auc: 0.6258 - val_loss: 1.0417 - val_binary_crossentropy: 0.9645 - val_auc: 0.6715\n",
      "Epoch 19/50\n",
      "3/3 [==============================] - 0s 18ms/step - loss: 0.9887 - binary_crossentropy: 0.9196 - auc: 0.6273 - val_loss: 1.0063 - val_binary_crossentropy: 0.9521 - val_auc: 0.6732\n",
      "Epoch 20/50\n",
      "3/3 [==============================] - 0s 18ms/step - loss: 0.9577 - binary_crossentropy: 0.9088 - auc: 0.6272 - val_loss: 0.9792 - val_binary_crossentropy: 0.9400 - val_auc: 0.6748\n",
      "Epoch 21/50\n",
      "3/3 [==============================] - 0s 19ms/step - loss: 0.9344 - binary_crossentropy: 0.8985 - auc: 0.6276 - val_loss: 0.9578 - val_binary_crossentropy: 0.9281 - val_auc: 0.6771\n",
      "Epoch 22/50\n",
      "3/3 [==============================] - 0s 19ms/step - loss: 0.9155 - binary_crossentropy: 0.8879 - auc: 0.6279 - val_loss: 0.9405 - val_binary_crossentropy: 0.9166 - val_auc: 0.6743\n",
      "Epoch 23/50\n",
      "3/3 [==============================] - 0s 20ms/step - loss: 0.9004 - binary_crossentropy: 0.8778 - auc: 0.6287 - val_loss: 0.9260 - val_binary_crossentropy: 0.9056 - val_auc: 0.6758\n",
      "Epoch 24/50\n",
      "3/3 [==============================] - 0s 18ms/step - loss: 0.8885 - binary_crossentropy: 0.8687 - auc: 0.6290 - val_loss: 0.9132 - val_binary_crossentropy: 0.8946 - val_auc: 0.6748\n",
      "Epoch 25/50\n",
      "3/3 [==============================] - 0s 19ms/step - loss: 0.8776 - binary_crossentropy: 0.8594 - auc: 0.6302 - val_loss: 0.9017 - val_binary_crossentropy: 0.8840 - val_auc: 0.6768\n",
      "Epoch 26/50\n",
      "3/3 [==============================] - 0s 19ms/step - loss: 0.8677 - binary_crossentropy: 0.8502 - auc: 0.6304 - val_loss: 0.8910 - val_binary_crossentropy: 0.8738 - val_auc: 0.6764\n",
      "Epoch 27/50\n",
      "3/3 [==============================] - 0s 18ms/step - loss: 0.8587 - binary_crossentropy: 0.8415 - auc: 0.6308 - val_loss: 0.8810 - val_binary_crossentropy: 0.8638 - val_auc: 0.6746\n",
      "Epoch 28/50\n",
      "3/3 [==============================] - 0s 17ms/step - loss: 0.8506 - binary_crossentropy: 0.8334 - auc: 0.6311 - val_loss: 0.8713 - val_binary_crossentropy: 0.8542 - val_auc: 0.6789\n",
      "Epoch 29/50\n",
      "3/3 [==============================] - 0s 19ms/step - loss: 0.8421 - binary_crossentropy: 0.8250 - auc: 0.6320 - val_loss: 0.8621 - val_binary_crossentropy: 0.8449 - val_auc: 0.6768\n",
      "Epoch 30/50\n",
      "3/3 [==============================] - 0s 18ms/step - loss: 0.8345 - binary_crossentropy: 0.8172 - auc: 0.6334 - val_loss: 0.8532 - val_binary_crossentropy: 0.8359 - val_auc: 0.6754\n",
      "Epoch 31/50\n",
      "3/3 [==============================] - 0s 22ms/step - loss: 0.8272 - binary_crossentropy: 0.8099 - auc: 0.6337 - val_loss: 0.8446 - val_binary_crossentropy: 0.8272 - val_auc: 0.6758\n",
      "Epoch 32/50\n",
      "3/3 [==============================] - 0s 21ms/step - loss: 0.8201 - binary_crossentropy: 0.8027 - auc: 0.6346 - val_loss: 0.8363 - val_binary_crossentropy: 0.8188 - val_auc: 0.6794\n",
      "Epoch 33/50\n",
      "3/3 [==============================] - 0s 19ms/step - loss: 0.8130 - binary_crossentropy: 0.7955 - auc: 0.6356 - val_loss: 0.8284 - val_binary_crossentropy: 0.8108 - val_auc: 0.6757\n",
      "Epoch 34/50\n",
      "3/3 [==============================] - 0s 18ms/step - loss: 0.8065 - binary_crossentropy: 0.7889 - auc: 0.6358 - val_loss: 0.8207 - val_binary_crossentropy: 0.8031 - val_auc: 0.6776\n",
      "Epoch 35/50\n",
      "3/3 [==============================] - 0s 18ms/step - loss: 0.8002 - binary_crossentropy: 0.7826 - auc: 0.6378 - val_loss: 0.8133 - val_binary_crossentropy: 0.7956 - val_auc: 0.6804\n",
      "Epoch 36/50\n",
      "3/3 [==============================] - 0s 20ms/step - loss: 0.7941 - binary_crossentropy: 0.7764 - auc: 0.6385 - val_loss: 0.8062 - val_binary_crossentropy: 0.7884 - val_auc: 0.6797\n",
      "Epoch 37/50\n",
      "3/3 [==============================] - 0s 19ms/step - loss: 0.7887 - binary_crossentropy: 0.7709 - auc: 0.6388 - val_loss: 0.7992 - val_binary_crossentropy: 0.7813 - val_auc: 0.6812\n",
      "Epoch 38/50\n",
      "3/3 [==============================] - 0s 19ms/step - loss: 0.7828 - binary_crossentropy: 0.7649 - auc: 0.6391 - val_loss: 0.7926 - val_binary_crossentropy: 0.7747 - val_auc: 0.6803\n",
      "Epoch 39/50\n",
      "3/3 [==============================] - 0s 20ms/step - loss: 0.7774 - binary_crossentropy: 0.7595 - auc: 0.6415 - val_loss: 0.7862 - val_binary_crossentropy: 0.7683 - val_auc: 0.6830\n"
     ]
    },
    {
     "name": "stdout",
     "output_type": "stream",
     "text": [
      "Epoch 40/50\n",
      "3/3 [==============================] - 0s 17ms/step - loss: 0.7722 - binary_crossentropy: 0.7542 - auc: 0.6414 - val_loss: 0.7801 - val_binary_crossentropy: 0.7621 - val_auc: 0.6819\n",
      "Epoch 41/50\n",
      "3/3 [==============================] - 0s 17ms/step - loss: 0.7674 - binary_crossentropy: 0.7494 - auc: 0.6422 - val_loss: 0.7742 - val_binary_crossentropy: 0.7562 - val_auc: 0.6852\n",
      "Epoch 42/50\n",
      "3/3 [==============================] - 0s 19ms/step - loss: 0.7628 - binary_crossentropy: 0.7448 - auc: 0.6431 - val_loss: 0.7684 - val_binary_crossentropy: 0.7504 - val_auc: 0.6873\n",
      "Epoch 43/50\n",
      "3/3 [==============================] - 0s 18ms/step - loss: 0.7581 - binary_crossentropy: 0.7401 - auc: 0.6436 - val_loss: 0.7629 - val_binary_crossentropy: 0.7449 - val_auc: 0.6864\n",
      "Epoch 44/50\n",
      "3/3 [==============================] - 0s 19ms/step - loss: 0.7538 - binary_crossentropy: 0.7358 - auc: 0.6452 - val_loss: 0.7576 - val_binary_crossentropy: 0.7396 - val_auc: 0.6865\n",
      "Epoch 45/50\n",
      "3/3 [==============================] - 0s 18ms/step - loss: 0.7500 - binary_crossentropy: 0.7320 - auc: 0.6452 - val_loss: 0.7524 - val_binary_crossentropy: 0.7344 - val_auc: 0.6866\n",
      "Epoch 46/50\n",
      "3/3 [==============================] - 0s 20ms/step - loss: 0.7456 - binary_crossentropy: 0.7277 - auc: 0.6466 - val_loss: 0.7475 - val_binary_crossentropy: 0.7296 - val_auc: 0.6878\n",
      "Epoch 47/50\n",
      "3/3 [==============================] - 0s 18ms/step - loss: 0.7418 - binary_crossentropy: 0.7240 - auc: 0.6468 - val_loss: 0.7428 - val_binary_crossentropy: 0.7249 - val_auc: 0.6876\n",
      "Epoch 48/50\n",
      "3/3 [==============================] - 0s 18ms/step - loss: 0.7384 - binary_crossentropy: 0.7206 - auc: 0.6476 - val_loss: 0.7381 - val_binary_crossentropy: 0.7204 - val_auc: 0.6894\n",
      "Epoch 49/50\n",
      "3/3 [==============================] - 0s 18ms/step - loss: 0.7349 - binary_crossentropy: 0.7172 - auc: 0.6486 - val_loss: 0.7336 - val_binary_crossentropy: 0.7160 - val_auc: 0.6907\n",
      "Epoch 50/50\n",
      "3/3 [==============================] - 0s 18ms/step - loss: 0.7310 - binary_crossentropy: 0.7134 - auc: 0.6502 - val_loss: 0.7295 - val_binary_crossentropy: 0.7120 - val_auc: 0.6918\n"
     ]
    },
    {
     "data": {
      "text/plain": [
       "<tensorflow.python.keras.callbacks.History at 0x7f08297fb0d0>"
      ]
     },
     "execution_count": 72,
     "metadata": {},
     "output_type": "execute_result"
    }
   ],
   "source": [
    "model.fit(train_dense_x+train_sparse_x, \n",
    "          train_label, epochs=50, batch_size=256,\n",
    "          validation_data=(val_dense_x+val_sparse_x, val_label), \n",
    "          callbacks=[tbCallBack])"
   ]
  },
  {
   "cell_type": "code",
   "execution_count": 73,
   "metadata": {
    "ExecuteTime": {
     "end_time": "2020-08-30T02:03:04.134135Z",
     "start_time": "2020-08-30T02:03:04.128149Z"
    }
   },
   "outputs": [],
   "source": [
    "test_dense_x = [test_data[f].values for f in dense_feature]\n",
    "test_sparse_x = [test_data[f].values for f in sparse_feature]"
   ]
  },
  {
   "cell_type": "code",
   "execution_count": 74,
   "metadata": {
    "ExecuteTime": {
     "end_time": "2020-08-30T02:03:05.246683Z",
     "start_time": "2020-08-30T02:03:04.982751Z"
    }
   },
   "outputs": [],
   "source": [
    "pred = model.predict(test_dense_x+test_sparse_x)\n",
    "# pred.head()"
   ]
  },
  {
   "cell_type": "code",
   "execution_count": 75,
   "metadata": {
    "ExecuteTime": {
     "end_time": "2020-08-30T02:03:06.001057Z",
     "start_time": "2020-08-30T02:03:05.994163Z"
    }
   },
   "outputs": [],
   "source": [
    "y_pred = [ 1 if i[0] > 0.5 else 0 for i in pred ]\n",
    "# y = [ 1 if pred[0] > 0.5 else 0 for i in pred ]"
   ]
  },
  {
   "cell_type": "code",
   "execution_count": 76,
   "metadata": {
    "ExecuteTime": {
     "end_time": "2020-08-30T02:03:07.019000Z",
     "start_time": "2020-08-30T02:03:07.007280Z"
    }
   },
   "outputs": [
    {
     "name": "stdout",
     "output_type": "stream",
     "text": [
      "     Survived\n",
      "0           0\n",
      "1           0\n",
      "2           0\n",
      "3           0\n",
      "4           0\n",
      "..        ...\n",
      "413         0\n",
      "414         0\n",
      "415         0\n",
      "416         0\n",
      "417         1\n",
      "\n",
      "[418 rows x 1 columns]\n"
     ]
    }
   ],
   "source": [
    "y_pred\n",
    "\n",
    "from pandas.core.frame import DataFrame\n",
    "c = {\"Survived\":y_pred #,'b':b\n",
    "    }  #将列表a，b装换成字典\n",
    " \n",
    "pd_y = DataFrame(c)\n",
    "print(pd_y)"
   ]
  },
  {
   "cell_type": "code",
   "execution_count": 77,
   "metadata": {
    "ExecuteTime": {
     "end_time": "2020-08-30T02:03:09.812259Z",
     "start_time": "2020-08-30T02:03:09.799135Z"
    }
   },
   "outputs": [
    {
     "data": {
      "text/plain": [
       "Index(['PassengerId', 'Pclass', 'Name', 'Sex', 'Age', 'SibSp', 'Parch',\n",
       "       'Ticket', 'Fare', 'Cabin', 'Embarked'],\n",
       "      dtype='object')"
      ]
     },
     "execution_count": 77,
     "metadata": {},
     "output_type": "execute_result"
    }
   ],
   "source": [
    "test_data = pd.read_csv(TEST_DATA_PATH, header=0)\n",
    "test_data.columns"
   ]
  },
  {
   "cell_type": "code",
   "execution_count": 78,
   "metadata": {
    "ExecuteTime": {
     "end_time": "2020-08-30T02:03:16.892471Z",
     "start_time": "2020-08-30T02:03:16.878314Z"
    }
   },
   "outputs": [],
   "source": [
    "submission = pd.concat([test_data['PassengerId'], pd_y], axis=1)\n",
    "submission.to_csv('submission.csv', header=True, index=False)"
   ]
  },
  {
   "cell_type": "code",
   "execution_count": null,
   "metadata": {
    "ExecuteTime": {
     "end_time": "2020-08-30T02:01:47.908071Z",
     "start_time": "2020-08-30T02:01:47.584Z"
    }
   },
   "outputs": [],
   "source": [
    "! pip install kaggle"
   ]
  },
  {
   "cell_type": "code",
   "execution_count": null,
   "metadata": {
    "ExecuteTime": {
     "end_time": "2020-08-30T02:01:47.909074Z",
     "start_time": "2020-08-30T02:01:47.586Z"
    }
   },
   "outputs": [],
   "source": [
    "!kaggle competitions submit -c titanic -f submission.csv -m \"tensorflow fm\""
   ]
  },
  {
   "cell_type": "code",
   "execution_count": null,
   "metadata": {},
   "outputs": [],
   "source": []
  }
 ],
 "metadata": {
  "kernelspec": {
   "display_name": "Python 3",
   "language": "python",
   "name": "python3"
  },
  "language_info": {
   "codemirror_mode": {
    "name": "ipython",
    "version": 3
   },
   "file_extension": ".py",
   "mimetype": "text/x-python",
   "name": "python",
   "nbconvert_exporter": "python",
   "pygments_lexer": "ipython3",
   "version": "3.7.4"
  },
  "latex_envs": {
   "LaTeX_envs_menu_present": true,
   "autoclose": false,
   "autocomplete": true,
   "bibliofile": "biblio.bib",
   "cite_by": "apalike",
   "current_citInitial": 1,
   "eqLabelWithNumbers": true,
   "eqNumInitial": 1,
   "hotkeys": {
    "equation": "Ctrl-E",
    "itemize": "Ctrl-I"
   },
   "labels_anchors": false,
   "latex_user_defs": false,
   "report_style_numbering": false,
   "user_envs_cfg": false
  },
  "toc": {
   "base_numbering": 1,
   "nav_menu": {},
   "number_sections": true,
   "sideBar": true,
   "skip_h1_title": false,
   "title_cell": "Table of Contents",
   "title_sidebar": "Contents",
   "toc_cell": false,
   "toc_position": {},
   "toc_section_display": true,
   "toc_window_display": false
  },
  "varInspector": {
   "cols": {
    "lenName": 16,
    "lenType": 16,
    "lenVar": 40
   },
   "kernels_config": {
    "python": {
     "delete_cmd_postfix": "",
     "delete_cmd_prefix": "del ",
     "library": "var_list.py",
     "varRefreshCmd": "print(var_dic_list())"
    },
    "r": {
     "delete_cmd_postfix": ") ",
     "delete_cmd_prefix": "rm(",
     "library": "var_list.r",
     "varRefreshCmd": "cat(var_dic_list()) "
    }
   },
   "types_to_exclude": [
    "module",
    "function",
    "builtin_function_or_method",
    "instance",
    "_Feature"
   ],
   "window_display": false
  }
 },
 "nbformat": 4,
 "nbformat_minor": 4
}
