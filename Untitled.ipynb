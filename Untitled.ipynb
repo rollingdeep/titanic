{
 "cells": [
  {
   "cell_type": "code",
   "execution_count": 1,
   "metadata": {
    "ExecuteTime": {
     "end_time": "2020-09-09T09:43:28.920064Z",
     "start_time": "2020-09-09T09:43:26.507100Z"
    }
   },
   "outputs": [
    {
     "name": "stderr",
     "output_type": "stream",
     "text": [
      "/home/yons/.pyenv/versions/3.7.4/envs/py37/lib/python3.7/site-packages/pandas/compat/__init__.py:117: UserWarning: Could not import the lzma module. Your installed Python is incomplete. Attempting to use lzma compression will result in a RuntimeError.\n",
      "  warnings.warn(msg)\n"
     ]
    },
    {
     "name": "stdout",
     "output_type": "stream",
     "text": [
      "WARNING:tensorflow:From <ipython-input-1-15efd4135473>:3: is_gpu_available (from tensorflow.python.framework.test_util) is deprecated and will be removed in a future version.\n",
      "Instructions for updating:\n",
      "Use `tf.config.list_physical_devices('GPU')` instead.\n"
     ]
    }
   ],
   "source": [
    "import functools\n",
    "import tensorflow as tf\n",
    "tf.test.is_gpu_available() #https://github.com/tensorflow/tensorflow/issues/38194\n",
    "import numpy as np\n",
    "import tensorflow_datasets as tfds\n",
    "import pandas as pd"
   ]
  },
  {
   "cell_type": "code",
   "execution_count": 2,
   "metadata": {
    "ExecuteTime": {
     "end_time": "2020-09-09T09:43:28.934629Z",
     "start_time": "2020-09-09T09:43:28.924958Z"
    }
   },
   "outputs": [],
   "source": [
    "TRAIN_DATA_PATH = \"./data/train.csv\"\n",
    "TEST_DATA_PATH = \"./data/test.csv\"\n",
    "\n",
    "train_data = pd.read_csv(TRAIN_DATA_PATH, header=0)\n",
    "test_data = pd.read_csv(TEST_DATA_PATH, header=0)"
   ]
  },
  {
   "cell_type": "code",
   "execution_count": 3,
   "metadata": {
    "ExecuteTime": {
     "end_time": "2020-09-09T09:43:28.969494Z",
     "start_time": "2020-09-09T09:43:28.953739Z"
    }
   },
   "outputs": [
    {
     "data": {
      "text/html": [
       "<div>\n",
       "<style scoped>\n",
       "    .dataframe tbody tr th:only-of-type {\n",
       "        vertical-align: middle;\n",
       "    }\n",
       "\n",
       "    .dataframe tbody tr th {\n",
       "        vertical-align: top;\n",
       "    }\n",
       "\n",
       "    .dataframe thead th {\n",
       "        text-align: right;\n",
       "    }\n",
       "</style>\n",
       "<table border=\"1\" class=\"dataframe\">\n",
       "  <thead>\n",
       "    <tr style=\"text-align: right;\">\n",
       "      <th></th>\n",
       "      <th>PassengerId</th>\n",
       "      <th>Survived</th>\n",
       "      <th>Pclass</th>\n",
       "      <th>Name</th>\n",
       "      <th>Sex</th>\n",
       "      <th>Age</th>\n",
       "      <th>SibSp</th>\n",
       "      <th>Parch</th>\n",
       "      <th>Ticket</th>\n",
       "      <th>Fare</th>\n",
       "      <th>Cabin</th>\n",
       "      <th>Embarked</th>\n",
       "    </tr>\n",
       "  </thead>\n",
       "  <tbody>\n",
       "    <tr>\n",
       "      <th>0</th>\n",
       "      <td>892</td>\n",
       "      <td>NaN</td>\n",
       "      <td>3</td>\n",
       "      <td>Kelly, Mr. James</td>\n",
       "      <td>male</td>\n",
       "      <td>34.5</td>\n",
       "      <td>0</td>\n",
       "      <td>0</td>\n",
       "      <td>330911</td>\n",
       "      <td>7.8292</td>\n",
       "      <td>NaN</td>\n",
       "      <td>Q</td>\n",
       "    </tr>\n",
       "    <tr>\n",
       "      <th>1</th>\n",
       "      <td>893</td>\n",
       "      <td>NaN</td>\n",
       "      <td>3</td>\n",
       "      <td>Wilkes, Mrs. James (Ellen Needs)</td>\n",
       "      <td>female</td>\n",
       "      <td>47.0</td>\n",
       "      <td>1</td>\n",
       "      <td>0</td>\n",
       "      <td>363272</td>\n",
       "      <td>7.0000</td>\n",
       "      <td>NaN</td>\n",
       "      <td>S</td>\n",
       "    </tr>\n",
       "    <tr>\n",
       "      <th>2</th>\n",
       "      <td>894</td>\n",
       "      <td>NaN</td>\n",
       "      <td>2</td>\n",
       "      <td>Myles, Mr. Thomas Francis</td>\n",
       "      <td>male</td>\n",
       "      <td>62.0</td>\n",
       "      <td>0</td>\n",
       "      <td>0</td>\n",
       "      <td>240276</td>\n",
       "      <td>9.6875</td>\n",
       "      <td>NaN</td>\n",
       "      <td>Q</td>\n",
       "    </tr>\n",
       "    <tr>\n",
       "      <th>3</th>\n",
       "      <td>895</td>\n",
       "      <td>NaN</td>\n",
       "      <td>3</td>\n",
       "      <td>Wirz, Mr. Albert</td>\n",
       "      <td>male</td>\n",
       "      <td>27.0</td>\n",
       "      <td>0</td>\n",
       "      <td>0</td>\n",
       "      <td>315154</td>\n",
       "      <td>8.6625</td>\n",
       "      <td>NaN</td>\n",
       "      <td>S</td>\n",
       "    </tr>\n",
       "    <tr>\n",
       "      <th>4</th>\n",
       "      <td>896</td>\n",
       "      <td>NaN</td>\n",
       "      <td>3</td>\n",
       "      <td>Hirvonen, Mrs. Alexander (Helga E Lindqvist)</td>\n",
       "      <td>female</td>\n",
       "      <td>22.0</td>\n",
       "      <td>1</td>\n",
       "      <td>1</td>\n",
       "      <td>3101298</td>\n",
       "      <td>12.2875</td>\n",
       "      <td>NaN</td>\n",
       "      <td>S</td>\n",
       "    </tr>\n",
       "  </tbody>\n",
       "</table>\n",
       "</div>"
      ],
      "text/plain": [
       "   PassengerId  Survived  Pclass  \\\n",
       "0          892       NaN       3   \n",
       "1          893       NaN       3   \n",
       "2          894       NaN       2   \n",
       "3          895       NaN       3   \n",
       "4          896       NaN       3   \n",
       "\n",
       "                                           Name     Sex   Age  SibSp  Parch  \\\n",
       "0                              Kelly, Mr. James    male  34.5      0      0   \n",
       "1              Wilkes, Mrs. James (Ellen Needs)  female  47.0      1      0   \n",
       "2                     Myles, Mr. Thomas Francis    male  62.0      0      0   \n",
       "3                              Wirz, Mr. Albert    male  27.0      0      0   \n",
       "4  Hirvonen, Mrs. Alexander (Helga E Lindqvist)  female  22.0      1      1   \n",
       "\n",
       "    Ticket     Fare Cabin Embarked  \n",
       "0   330911   7.8292   NaN        Q  \n",
       "1   363272   7.0000   NaN        S  \n",
       "2   240276   9.6875   NaN        Q  \n",
       "3   315154   8.6625   NaN        S  \n",
       "4  3101298  12.2875   NaN        S  "
      ]
     },
     "execution_count": 3,
     "metadata": {},
     "output_type": "execute_result"
    }
   ],
   "source": [
    "test_data['Survived'] = np.nan\n",
    "# test_data.head()\n",
    "test_data = test_data[train_data.columns]\n",
    "test_data.head()"
   ]
  },
  {
   "cell_type": "code",
   "execution_count": 4,
   "metadata": {
    "ExecuteTime": {
     "end_time": "2020-09-09T09:43:28.991730Z",
     "start_time": "2020-09-09T09:43:28.986763Z"
    }
   },
   "outputs": [],
   "source": [
    "data = pd.concat([train_data, test_data], axis=0)"
   ]
  },
  {
   "cell_type": "code",
   "execution_count": 5,
   "metadata": {
    "ExecuteTime": {
     "end_time": "2020-09-09T09:43:29.038761Z",
     "start_time": "2020-09-09T09:43:29.017282Z"
    }
   },
   "outputs": [
    {
     "data": {
      "text/html": [
       "<div>\n",
       "<style scoped>\n",
       "    .dataframe tbody tr th:only-of-type {\n",
       "        vertical-align: middle;\n",
       "    }\n",
       "\n",
       "    .dataframe tbody tr th {\n",
       "        vertical-align: top;\n",
       "    }\n",
       "\n",
       "    .dataframe thead th {\n",
       "        text-align: right;\n",
       "    }\n",
       "</style>\n",
       "<table border=\"1\" class=\"dataframe\">\n",
       "  <thead>\n",
       "    <tr style=\"text-align: right;\">\n",
       "      <th></th>\n",
       "      <th>PassengerId</th>\n",
       "      <th>Survived</th>\n",
       "      <th>Pclass</th>\n",
       "      <th>Age</th>\n",
       "      <th>SibSp</th>\n",
       "      <th>Parch</th>\n",
       "      <th>Fare</th>\n",
       "    </tr>\n",
       "  </thead>\n",
       "  <tbody>\n",
       "    <tr>\n",
       "      <th>count</th>\n",
       "      <td>1309.000000</td>\n",
       "      <td>891.000000</td>\n",
       "      <td>1309.000000</td>\n",
       "      <td>1046.000000</td>\n",
       "      <td>1309.000000</td>\n",
       "      <td>1309.000000</td>\n",
       "      <td>1308.000000</td>\n",
       "    </tr>\n",
       "    <tr>\n",
       "      <th>mean</th>\n",
       "      <td>655.000000</td>\n",
       "      <td>0.383838</td>\n",
       "      <td>2.294882</td>\n",
       "      <td>29.881138</td>\n",
       "      <td>0.498854</td>\n",
       "      <td>0.385027</td>\n",
       "      <td>33.295479</td>\n",
       "    </tr>\n",
       "    <tr>\n",
       "      <th>std</th>\n",
       "      <td>378.020061</td>\n",
       "      <td>0.486592</td>\n",
       "      <td>0.837836</td>\n",
       "      <td>14.413493</td>\n",
       "      <td>1.041658</td>\n",
       "      <td>0.865560</td>\n",
       "      <td>51.758668</td>\n",
       "    </tr>\n",
       "    <tr>\n",
       "      <th>min</th>\n",
       "      <td>1.000000</td>\n",
       "      <td>0.000000</td>\n",
       "      <td>1.000000</td>\n",
       "      <td>0.170000</td>\n",
       "      <td>0.000000</td>\n",
       "      <td>0.000000</td>\n",
       "      <td>0.000000</td>\n",
       "    </tr>\n",
       "    <tr>\n",
       "      <th>25%</th>\n",
       "      <td>328.000000</td>\n",
       "      <td>0.000000</td>\n",
       "      <td>2.000000</td>\n",
       "      <td>21.000000</td>\n",
       "      <td>0.000000</td>\n",
       "      <td>0.000000</td>\n",
       "      <td>7.895800</td>\n",
       "    </tr>\n",
       "    <tr>\n",
       "      <th>50%</th>\n",
       "      <td>655.000000</td>\n",
       "      <td>0.000000</td>\n",
       "      <td>3.000000</td>\n",
       "      <td>28.000000</td>\n",
       "      <td>0.000000</td>\n",
       "      <td>0.000000</td>\n",
       "      <td>14.454200</td>\n",
       "    </tr>\n",
       "    <tr>\n",
       "      <th>75%</th>\n",
       "      <td>982.000000</td>\n",
       "      <td>1.000000</td>\n",
       "      <td>3.000000</td>\n",
       "      <td>39.000000</td>\n",
       "      <td>1.000000</td>\n",
       "      <td>0.000000</td>\n",
       "      <td>31.275000</td>\n",
       "    </tr>\n",
       "    <tr>\n",
       "      <th>max</th>\n",
       "      <td>1309.000000</td>\n",
       "      <td>1.000000</td>\n",
       "      <td>3.000000</td>\n",
       "      <td>80.000000</td>\n",
       "      <td>8.000000</td>\n",
       "      <td>9.000000</td>\n",
       "      <td>512.329200</td>\n",
       "    </tr>\n",
       "  </tbody>\n",
       "</table>\n",
       "</div>"
      ],
      "text/plain": [
       "       PassengerId    Survived       Pclass          Age        SibSp  \\\n",
       "count  1309.000000  891.000000  1309.000000  1046.000000  1309.000000   \n",
       "mean    655.000000    0.383838     2.294882    29.881138     0.498854   \n",
       "std     378.020061    0.486592     0.837836    14.413493     1.041658   \n",
       "min       1.000000    0.000000     1.000000     0.170000     0.000000   \n",
       "25%     328.000000    0.000000     2.000000    21.000000     0.000000   \n",
       "50%     655.000000    0.000000     3.000000    28.000000     0.000000   \n",
       "75%     982.000000    1.000000     3.000000    39.000000     1.000000   \n",
       "max    1309.000000    1.000000     3.000000    80.000000     8.000000   \n",
       "\n",
       "             Parch         Fare  \n",
       "count  1309.000000  1308.000000  \n",
       "mean      0.385027    33.295479  \n",
       "std       0.865560    51.758668  \n",
       "min       0.000000     0.000000  \n",
       "25%       0.000000     7.895800  \n",
       "50%       0.000000    14.454200  \n",
       "75%       0.000000    31.275000  \n",
       "max       9.000000   512.329200  "
      ]
     },
     "execution_count": 5,
     "metadata": {},
     "output_type": "execute_result"
    }
   ],
   "source": [
    "data.describe()"
   ]
  },
  {
   "cell_type": "code",
   "execution_count": 6,
   "metadata": {
    "ExecuteTime": {
     "end_time": "2020-09-09T09:43:29.065866Z",
     "start_time": "2020-09-09T09:43:29.062118Z"
    }
   },
   "outputs": [],
   "source": [
    "label_column = [\"Survived\"]\n",
    "feature_columns = list(set(data.columns) - set(label_column))\n",
    "dense_feature = list(set(data.select_dtypes(include=np.number).columns) & set(feature_columns))"
   ]
  },
  {
   "cell_type": "code",
   "execution_count": 7,
   "metadata": {
    "ExecuteTime": {
     "end_time": "2020-09-09T09:43:29.092342Z",
     "start_time": "2020-09-09T09:43:29.089768Z"
    }
   },
   "outputs": [],
   "source": [
    "## 假定数据集是数值类型\n",
    "data = data[dense_feature + label_column]"
   ]
  },
  {
   "cell_type": "code",
   "execution_count": 8,
   "metadata": {
    "ExecuteTime": {
     "end_time": "2020-09-09T09:43:29.117835Z",
     "start_time": "2020-09-09T09:43:29.114578Z"
    }
   },
   "outputs": [],
   "source": [
    "def process_dense_feats(data, feats):\n",
    "    d = data.copy()\n",
    "    d = d[feats].fillna(0.0)  # 暂时填充为0\n",
    "    for f in feats:\n",
    "        d[f] = d[f].apply(lambda x: np.log(x+1) if x > -1 else -1)\n",
    "    \n",
    "    return d"
   ]
  },
  {
   "cell_type": "code",
   "execution_count": 9,
   "metadata": {
    "ExecuteTime": {
     "end_time": "2020-09-09T09:43:29.382470Z",
     "start_time": "2020-09-09T09:43:29.360631Z"
    }
   },
   "outputs": [
    {
     "data": {
      "text/html": [
       "<div>\n",
       "<style scoped>\n",
       "    .dataframe tbody tr th:only-of-type {\n",
       "        vertical-align: middle;\n",
       "    }\n",
       "\n",
       "    .dataframe tbody tr th {\n",
       "        vertical-align: top;\n",
       "    }\n",
       "\n",
       "    .dataframe thead th {\n",
       "        text-align: right;\n",
       "    }\n",
       "</style>\n",
       "<table border=\"1\" class=\"dataframe\">\n",
       "  <thead>\n",
       "    <tr style=\"text-align: right;\">\n",
       "      <th></th>\n",
       "      <th>PassengerId</th>\n",
       "      <th>Age</th>\n",
       "      <th>Pclass</th>\n",
       "      <th>Parch</th>\n",
       "      <th>SibSp</th>\n",
       "      <th>Fare</th>\n",
       "    </tr>\n",
       "  </thead>\n",
       "  <tbody>\n",
       "    <tr>\n",
       "      <th>0</th>\n",
       "      <td>0.693147</td>\n",
       "      <td>3.135494</td>\n",
       "      <td>1.386294</td>\n",
       "      <td>0.000000</td>\n",
       "      <td>0.693147</td>\n",
       "      <td>2.110213</td>\n",
       "    </tr>\n",
       "    <tr>\n",
       "      <th>1</th>\n",
       "      <td>1.098612</td>\n",
       "      <td>3.663562</td>\n",
       "      <td>0.693147</td>\n",
       "      <td>0.000000</td>\n",
       "      <td>0.693147</td>\n",
       "      <td>4.280593</td>\n",
       "    </tr>\n",
       "    <tr>\n",
       "      <th>2</th>\n",
       "      <td>1.386294</td>\n",
       "      <td>3.295837</td>\n",
       "      <td>1.386294</td>\n",
       "      <td>0.000000</td>\n",
       "      <td>0.000000</td>\n",
       "      <td>2.188856</td>\n",
       "    </tr>\n",
       "    <tr>\n",
       "      <th>3</th>\n",
       "      <td>1.609438</td>\n",
       "      <td>3.583519</td>\n",
       "      <td>0.693147</td>\n",
       "      <td>0.000000</td>\n",
       "      <td>0.693147</td>\n",
       "      <td>3.990834</td>\n",
       "    </tr>\n",
       "    <tr>\n",
       "      <th>4</th>\n",
       "      <td>1.791759</td>\n",
       "      <td>3.583519</td>\n",
       "      <td>1.386294</td>\n",
       "      <td>0.000000</td>\n",
       "      <td>0.000000</td>\n",
       "      <td>2.202765</td>\n",
       "    </tr>\n",
       "    <tr>\n",
       "      <th>...</th>\n",
       "      <td>...</td>\n",
       "      <td>...</td>\n",
       "      <td>...</td>\n",
       "      <td>...</td>\n",
       "      <td>...</td>\n",
       "      <td>...</td>\n",
       "    </tr>\n",
       "    <tr>\n",
       "      <th>413</th>\n",
       "      <td>7.174724</td>\n",
       "      <td>0.000000</td>\n",
       "      <td>1.386294</td>\n",
       "      <td>0.000000</td>\n",
       "      <td>0.000000</td>\n",
       "      <td>2.202765</td>\n",
       "    </tr>\n",
       "    <tr>\n",
       "      <th>414</th>\n",
       "      <td>7.175490</td>\n",
       "      <td>3.688879</td>\n",
       "      <td>0.693147</td>\n",
       "      <td>0.000000</td>\n",
       "      <td>0.000000</td>\n",
       "      <td>4.699571</td>\n",
       "    </tr>\n",
       "    <tr>\n",
       "      <th>415</th>\n",
       "      <td>7.176255</td>\n",
       "      <td>3.676301</td>\n",
       "      <td>1.386294</td>\n",
       "      <td>0.000000</td>\n",
       "      <td>0.000000</td>\n",
       "      <td>2.110213</td>\n",
       "    </tr>\n",
       "    <tr>\n",
       "      <th>416</th>\n",
       "      <td>7.177019</td>\n",
       "      <td>0.000000</td>\n",
       "      <td>1.386294</td>\n",
       "      <td>0.000000</td>\n",
       "      <td>0.000000</td>\n",
       "      <td>2.202765</td>\n",
       "    </tr>\n",
       "    <tr>\n",
       "      <th>417</th>\n",
       "      <td>7.177782</td>\n",
       "      <td>0.000000</td>\n",
       "      <td>1.386294</td>\n",
       "      <td>0.693147</td>\n",
       "      <td>0.693147</td>\n",
       "      <td>3.150952</td>\n",
       "    </tr>\n",
       "  </tbody>\n",
       "</table>\n",
       "<p>1309 rows × 6 columns</p>\n",
       "</div>"
      ],
      "text/plain": [
       "     PassengerId       Age    Pclass     Parch     SibSp      Fare\n",
       "0       0.693147  3.135494  1.386294  0.000000  0.693147  2.110213\n",
       "1       1.098612  3.663562  0.693147  0.000000  0.693147  4.280593\n",
       "2       1.386294  3.295837  1.386294  0.000000  0.000000  2.188856\n",
       "3       1.609438  3.583519  0.693147  0.000000  0.693147  3.990834\n",
       "4       1.791759  3.583519  1.386294  0.000000  0.000000  2.202765\n",
       "..           ...       ...       ...       ...       ...       ...\n",
       "413     7.174724  0.000000  1.386294  0.000000  0.000000  2.202765\n",
       "414     7.175490  3.688879  0.693147  0.000000  0.000000  4.699571\n",
       "415     7.176255  3.676301  1.386294  0.000000  0.000000  2.110213\n",
       "416     7.177019  0.000000  1.386294  0.000000  0.000000  2.202765\n",
       "417     7.177782  0.000000  1.386294  0.693147  0.693147  3.150952\n",
       "\n",
       "[1309 rows x 6 columns]"
      ]
     },
     "execution_count": 9,
     "metadata": {},
     "output_type": "execute_result"
    }
   ],
   "source": [
    "data_dense = process_dense_feats(data, dense_feature)\n",
    "data_dense"
   ]
  },
  {
   "cell_type": "code",
   "execution_count": 10,
   "metadata": {
    "ExecuteTime": {
     "end_time": "2020-09-09T09:43:29.747678Z",
     "start_time": "2020-09-09T09:43:29.745168Z"
    }
   },
   "outputs": [],
   "source": [
    "total_data = data_dense"
   ]
  },
  {
   "cell_type": "code",
   "execution_count": 11,
   "metadata": {
    "ExecuteTime": {
     "end_time": "2020-09-09T09:43:30.140585Z",
     "start_time": "2020-09-09T09:43:30.137463Z"
    }
   },
   "outputs": [],
   "source": [
    "total_data['label'] = data[label_column]"
   ]
  },
  {
   "cell_type": "code",
   "execution_count": 12,
   "metadata": {
    "ExecuteTime": {
     "end_time": "2020-09-09T09:43:30.560417Z",
     "start_time": "2020-09-09T09:43:30.545804Z"
    }
   },
   "outputs": [
    {
     "data": {
      "text/html": [
       "<div>\n",
       "<style scoped>\n",
       "    .dataframe tbody tr th:only-of-type {\n",
       "        vertical-align: middle;\n",
       "    }\n",
       "\n",
       "    .dataframe tbody tr th {\n",
       "        vertical-align: top;\n",
       "    }\n",
       "\n",
       "    .dataframe thead th {\n",
       "        text-align: right;\n",
       "    }\n",
       "</style>\n",
       "<table border=\"1\" class=\"dataframe\">\n",
       "  <thead>\n",
       "    <tr style=\"text-align: right;\">\n",
       "      <th></th>\n",
       "      <th>PassengerId</th>\n",
       "      <th>Age</th>\n",
       "      <th>Pclass</th>\n",
       "      <th>Parch</th>\n",
       "      <th>SibSp</th>\n",
       "      <th>Fare</th>\n",
       "      <th>label</th>\n",
       "    </tr>\n",
       "  </thead>\n",
       "  <tbody>\n",
       "    <tr>\n",
       "      <th>0</th>\n",
       "      <td>0.693147</td>\n",
       "      <td>3.135494</td>\n",
       "      <td>1.386294</td>\n",
       "      <td>0.000000</td>\n",
       "      <td>0.693147</td>\n",
       "      <td>2.110213</td>\n",
       "      <td>0.0</td>\n",
       "    </tr>\n",
       "    <tr>\n",
       "      <th>1</th>\n",
       "      <td>1.098612</td>\n",
       "      <td>3.663562</td>\n",
       "      <td>0.693147</td>\n",
       "      <td>0.000000</td>\n",
       "      <td>0.693147</td>\n",
       "      <td>4.280593</td>\n",
       "      <td>1.0</td>\n",
       "    </tr>\n",
       "    <tr>\n",
       "      <th>2</th>\n",
       "      <td>1.386294</td>\n",
       "      <td>3.295837</td>\n",
       "      <td>1.386294</td>\n",
       "      <td>0.000000</td>\n",
       "      <td>0.000000</td>\n",
       "      <td>2.188856</td>\n",
       "      <td>1.0</td>\n",
       "    </tr>\n",
       "    <tr>\n",
       "      <th>3</th>\n",
       "      <td>1.609438</td>\n",
       "      <td>3.583519</td>\n",
       "      <td>0.693147</td>\n",
       "      <td>0.000000</td>\n",
       "      <td>0.693147</td>\n",
       "      <td>3.990834</td>\n",
       "      <td>1.0</td>\n",
       "    </tr>\n",
       "    <tr>\n",
       "      <th>4</th>\n",
       "      <td>1.791759</td>\n",
       "      <td>3.583519</td>\n",
       "      <td>1.386294</td>\n",
       "      <td>0.000000</td>\n",
       "      <td>0.000000</td>\n",
       "      <td>2.202765</td>\n",
       "      <td>0.0</td>\n",
       "    </tr>\n",
       "    <tr>\n",
       "      <th>...</th>\n",
       "      <td>...</td>\n",
       "      <td>...</td>\n",
       "      <td>...</td>\n",
       "      <td>...</td>\n",
       "      <td>...</td>\n",
       "      <td>...</td>\n",
       "      <td>...</td>\n",
       "    </tr>\n",
       "    <tr>\n",
       "      <th>413</th>\n",
       "      <td>7.174724</td>\n",
       "      <td>0.000000</td>\n",
       "      <td>1.386294</td>\n",
       "      <td>0.000000</td>\n",
       "      <td>0.000000</td>\n",
       "      <td>2.202765</td>\n",
       "      <td>NaN</td>\n",
       "    </tr>\n",
       "    <tr>\n",
       "      <th>414</th>\n",
       "      <td>7.175490</td>\n",
       "      <td>3.688879</td>\n",
       "      <td>0.693147</td>\n",
       "      <td>0.000000</td>\n",
       "      <td>0.000000</td>\n",
       "      <td>4.699571</td>\n",
       "      <td>NaN</td>\n",
       "    </tr>\n",
       "    <tr>\n",
       "      <th>415</th>\n",
       "      <td>7.176255</td>\n",
       "      <td>3.676301</td>\n",
       "      <td>1.386294</td>\n",
       "      <td>0.000000</td>\n",
       "      <td>0.000000</td>\n",
       "      <td>2.110213</td>\n",
       "      <td>NaN</td>\n",
       "    </tr>\n",
       "    <tr>\n",
       "      <th>416</th>\n",
       "      <td>7.177019</td>\n",
       "      <td>0.000000</td>\n",
       "      <td>1.386294</td>\n",
       "      <td>0.000000</td>\n",
       "      <td>0.000000</td>\n",
       "      <td>2.202765</td>\n",
       "      <td>NaN</td>\n",
       "    </tr>\n",
       "    <tr>\n",
       "      <th>417</th>\n",
       "      <td>7.177782</td>\n",
       "      <td>0.000000</td>\n",
       "      <td>1.386294</td>\n",
       "      <td>0.693147</td>\n",
       "      <td>0.693147</td>\n",
       "      <td>3.150952</td>\n",
       "      <td>NaN</td>\n",
       "    </tr>\n",
       "  </tbody>\n",
       "</table>\n",
       "<p>1309 rows × 7 columns</p>\n",
       "</div>"
      ],
      "text/plain": [
       "     PassengerId       Age    Pclass     Parch     SibSp      Fare  label\n",
       "0       0.693147  3.135494  1.386294  0.000000  0.693147  2.110213    0.0\n",
       "1       1.098612  3.663562  0.693147  0.000000  0.693147  4.280593    1.0\n",
       "2       1.386294  3.295837  1.386294  0.000000  0.000000  2.188856    1.0\n",
       "3       1.609438  3.583519  0.693147  0.000000  0.693147  3.990834    1.0\n",
       "4       1.791759  3.583519  1.386294  0.000000  0.000000  2.202765    0.0\n",
       "..           ...       ...       ...       ...       ...       ...    ...\n",
       "413     7.174724  0.000000  1.386294  0.000000  0.000000  2.202765    NaN\n",
       "414     7.175490  3.688879  0.693147  0.000000  0.000000  4.699571    NaN\n",
       "415     7.176255  3.676301  1.386294  0.000000  0.000000  2.110213    NaN\n",
       "416     7.177019  0.000000  1.386294  0.000000  0.000000  2.202765    NaN\n",
       "417     7.177782  0.000000  1.386294  0.693147  0.693147  3.150952    NaN\n",
       "\n",
       "[1309 rows x 7 columns]"
      ]
     },
     "execution_count": 12,
     "metadata": {},
     "output_type": "execute_result"
    }
   ],
   "source": [
    "total_data"
   ]
  },
  {
   "cell_type": "code",
   "execution_count": 13,
   "metadata": {
    "ExecuteTime": {
     "end_time": "2020-09-09T09:43:30.981264Z",
     "start_time": "2020-09-09T09:43:30.969754Z"
    }
   },
   "outputs": [
    {
     "data": {
      "text/plain": [
       "[<tf.Tensor 'PassengerId:0' shape=(None, 1) dtype=float32>,\n",
       " <tf.Tensor 'Age:0' shape=(None, 1) dtype=float32>,\n",
       " <tf.Tensor 'Pclass:0' shape=(None, 1) dtype=float32>,\n",
       " <tf.Tensor 'Parch:0' shape=(None, 1) dtype=float32>,\n",
       " <tf.Tensor 'SibSp:0' shape=(None, 1) dtype=float32>,\n",
       " <tf.Tensor 'Fare:0' shape=(None, 1) dtype=float32>]"
      ]
     },
     "execution_count": 13,
     "metadata": {},
     "output_type": "execute_result"
    }
   ],
   "source": [
    "import tensorflow as tf\n",
    "dense_inputs = []\n",
    "for f in dense_feature:\n",
    "    _input = tf.keras.layers.Input([1], name=f)\n",
    "    dense_inputs.append(_input)\n",
    "dense_inputs"
   ]
  },
  {
   "cell_type": "code",
   "execution_count": 14,
   "metadata": {
    "ExecuteTime": {
     "end_time": "2020-09-09T09:43:31.530947Z",
     "start_time": "2020-09-09T09:43:31.512183Z"
    }
   },
   "outputs": [],
   "source": [
    "concat_dense_inputs = tf.keras.layers.Concatenate(axis=1)(dense_inputs)\n",
    "s_layer = tf.keras.layers.Dense(1, activation='sigmoid')(concat_dense_inputs)\n",
    "\n",
    "logistic_regression = tf.keras.models.Model(dense_inputs, s_layer)"
   ]
  },
  {
   "cell_type": "code",
   "execution_count": 15,
   "metadata": {
    "ExecuteTime": {
     "end_time": "2020-09-09T09:43:33.485616Z",
     "start_time": "2020-09-09T09:43:33.481805Z"
    }
   },
   "outputs": [
    {
     "name": "stdout",
     "output_type": "stream",
     "text": [
      "Model: \"model\"\n",
      "__________________________________________________________________________________________________\n",
      "Layer (type)                    Output Shape         Param #     Connected to                     \n",
      "==================================================================================================\n",
      "PassengerId (InputLayer)        [(None, 1)]          0                                            \n",
      "__________________________________________________________________________________________________\n",
      "Age (InputLayer)                [(None, 1)]          0                                            \n",
      "__________________________________________________________________________________________________\n",
      "Pclass (InputLayer)             [(None, 1)]          0                                            \n",
      "__________________________________________________________________________________________________\n",
      "Parch (InputLayer)              [(None, 1)]          0                                            \n",
      "__________________________________________________________________________________________________\n",
      "SibSp (InputLayer)              [(None, 1)]          0                                            \n",
      "__________________________________________________________________________________________________\n",
      "Fare (InputLayer)               [(None, 1)]          0                                            \n",
      "__________________________________________________________________________________________________\n",
      "concatenate (Concatenate)       (None, 6)            0           PassengerId[0][0]                \n",
      "                                                                 Age[0][0]                        \n",
      "                                                                 Pclass[0][0]                     \n",
      "                                                                 Parch[0][0]                      \n",
      "                                                                 SibSp[0][0]                      \n",
      "                                                                 Fare[0][0]                       \n",
      "__________________________________________________________________________________________________\n",
      "dense (Dense)                   (None, 1)            7           concatenate[0][0]                \n",
      "==================================================================================================\n",
      "Total params: 7\n",
      "Trainable params: 7\n",
      "Non-trainable params: 0\n",
      "__________________________________________________________________________________________________\n"
     ]
    }
   ],
   "source": [
    "logistic_regression.summary()\n",
    "\n"
   ]
  },
  {
   "cell_type": "code",
   "execution_count": 16,
   "metadata": {
    "ExecuteTime": {
     "end_time": "2020-09-09T09:43:34.589865Z",
     "start_time": "2020-09-09T09:43:34.105087Z"
    }
   },
   "outputs": [
    {
     "data": {
      "image/png": "[encoded data removed]",
      "text/plain": [
       "<IPython.core.display.Image object>"
      ]
     },
     "execution_count": 16,
     "metadata": {},
     "output_type": "execute_result"
    }
   ],
   "source": [
    "import matplotlib.pyplot as plt\n",
    "from tensorflow.keras.utils import plot_model\n",
    "%matplotlib inline\n",
    "plot_model(logistic_regression, \"lr_model.png\", show_shapes=True)"
   ]
  },
  {
   "cell_type": "code",
   "execution_count": 38,
   "metadata": {
    "ExecuteTime": {
     "end_time": "2020-09-09T09:57:19.893805Z",
     "start_time": "2020-09-09T09:57:19.879779Z"
    }
   },
   "outputs": [],
   "source": [
    "from tensorflow.keras import optimizers\n",
    "# sgd = optimizers.SGD(lr=0.01, decay=1e-6, momentum=0.9, nesterov=True)\n",
    "adam = optimizers.Adamax(lr=0.002, beta_1=0.9, beta_2=0.999, epsilon=None, decay=0.0)\n",
    "logistic_regression.compile(optimizer=sgd, \n",
    "              loss=\"binary_crossentropy\", \n",
    "              metrics=[\"binary_crossentropy\", tf.keras.metrics.AUC(name='auc')])"
   ]
  },
  {
   "cell_type": "code",
   "execution_count": 18,
   "metadata": {
    "ExecuteTime": {
     "end_time": "2020-09-09T09:43:35.235497Z",
     "start_time": "2020-09-09T09:43:35.233092Z"
    }
   },
   "outputs": [],
   "source": [
    "from tensorflow.keras.callbacks import TensorBoard"
   ]
  },
  {
   "cell_type": "code",
   "execution_count": 25,
   "metadata": {
    "ExecuteTime": {
     "end_time": "2020-09-09T09:47:07.709569Z",
     "start_time": "2020-09-09T09:47:07.705966Z"
    }
   },
   "outputs": [
    {
     "name": "stdout",
     "output_type": "stream",
     "text": [
      "WARNING:tensorflow:`write_grads` will be ignored in TensorFlow 2.0 for the `TensorBoard` Callback.\n"
     ]
    }
   ],
   "source": [
    "# !rm ./logs -rf\n",
    "tbCallBack = TensorBoard(log_dir='./logs',  # log 目录\n",
    "                 histogram_freq=0,  # 按照何等频率（epoch）来计算直方图，0为不计算\n",
    "                 write_graph=True,  # 是否存储网络结构图\n",
    "                 write_grads=True, # 是否可视化梯度直方图\n",
    "                 write_images=True,# 是否可视化参数\n",
    "                 embeddings_freq=0, \n",
    "                 embeddings_layer_names=None, \n",
    "                 embeddings_metadata=None)"
   ]
  },
  {
   "cell_type": "code",
   "execution_count": 186,
   "metadata": {
    "ExecuteTime": {
     "end_time": "2020-09-09T09:41:51.493179Z",
     "start_time": "2020-09-09T09:41:51.491723Z"
    }
   },
   "outputs": [],
   "source": [
    "# %whos\n",
    "# %reset_selective -f tbCallBack "
   ]
  },
  {
   "cell_type": "code",
   "execution_count": 28,
   "metadata": {
    "ExecuteTime": {
     "end_time": "2020-09-09T09:47:49.827691Z",
     "start_time": "2020-09-09T09:47:49.818135Z"
    }
   },
   "outputs": [
    {
     "data": {
      "text/html": [
       "<div>\n",
       "<style scoped>\n",
       "    .dataframe tbody tr th:only-of-type {\n",
       "        vertical-align: middle;\n",
       "    }\n",
       "\n",
       "    .dataframe tbody tr th {\n",
       "        vertical-align: top;\n",
       "    }\n",
       "\n",
       "    .dataframe thead th {\n",
       "        text-align: right;\n",
       "    }\n",
       "</style>\n",
       "<table border=\"1\" class=\"dataframe\">\n",
       "  <thead>\n",
       "    <tr style=\"text-align: right;\">\n",
       "      <th></th>\n",
       "      <th>PassengerId</th>\n",
       "      <th>Age</th>\n",
       "      <th>Pclass</th>\n",
       "      <th>Parch</th>\n",
       "      <th>SibSp</th>\n",
       "      <th>Fare</th>\n",
       "      <th>label</th>\n",
       "    </tr>\n",
       "  </thead>\n",
       "  <tbody>\n",
       "    <tr>\n",
       "      <th>0</th>\n",
       "      <td>0.693147</td>\n",
       "      <td>3.135494</td>\n",
       "      <td>1.386294</td>\n",
       "      <td>0.000000</td>\n",
       "      <td>0.693147</td>\n",
       "      <td>2.110213</td>\n",
       "      <td>0.0</td>\n",
       "    </tr>\n",
       "    <tr>\n",
       "      <th>1</th>\n",
       "      <td>1.098612</td>\n",
       "      <td>3.663562</td>\n",
       "      <td>0.693147</td>\n",
       "      <td>0.000000</td>\n",
       "      <td>0.693147</td>\n",
       "      <td>4.280593</td>\n",
       "      <td>1.0</td>\n",
       "    </tr>\n",
       "    <tr>\n",
       "      <th>2</th>\n",
       "      <td>1.386294</td>\n",
       "      <td>3.295837</td>\n",
       "      <td>1.386294</td>\n",
       "      <td>0.000000</td>\n",
       "      <td>0.000000</td>\n",
       "      <td>2.188856</td>\n",
       "      <td>1.0</td>\n",
       "    </tr>\n",
       "    <tr>\n",
       "      <th>3</th>\n",
       "      <td>1.609438</td>\n",
       "      <td>3.583519</td>\n",
       "      <td>0.693147</td>\n",
       "      <td>0.000000</td>\n",
       "      <td>0.693147</td>\n",
       "      <td>3.990834</td>\n",
       "      <td>1.0</td>\n",
       "    </tr>\n",
       "    <tr>\n",
       "      <th>4</th>\n",
       "      <td>1.791759</td>\n",
       "      <td>3.583519</td>\n",
       "      <td>1.386294</td>\n",
       "      <td>0.000000</td>\n",
       "      <td>0.000000</td>\n",
       "      <td>2.202765</td>\n",
       "      <td>0.0</td>\n",
       "    </tr>\n",
       "    <tr>\n",
       "      <th>...</th>\n",
       "      <td>...</td>\n",
       "      <td>...</td>\n",
       "      <td>...</td>\n",
       "      <td>...</td>\n",
       "      <td>...</td>\n",
       "      <td>...</td>\n",
       "      <td>...</td>\n",
       "    </tr>\n",
       "    <tr>\n",
       "      <th>413</th>\n",
       "      <td>7.174724</td>\n",
       "      <td>0.000000</td>\n",
       "      <td>1.386294</td>\n",
       "      <td>0.000000</td>\n",
       "      <td>0.000000</td>\n",
       "      <td>2.202765</td>\n",
       "      <td>NaN</td>\n",
       "    </tr>\n",
       "    <tr>\n",
       "      <th>414</th>\n",
       "      <td>7.175490</td>\n",
       "      <td>3.688879</td>\n",
       "      <td>0.693147</td>\n",
       "      <td>0.000000</td>\n",
       "      <td>0.000000</td>\n",
       "      <td>4.699571</td>\n",
       "      <td>NaN</td>\n",
       "    </tr>\n",
       "    <tr>\n",
       "      <th>415</th>\n",
       "      <td>7.176255</td>\n",
       "      <td>3.676301</td>\n",
       "      <td>1.386294</td>\n",
       "      <td>0.000000</td>\n",
       "      <td>0.000000</td>\n",
       "      <td>2.110213</td>\n",
       "      <td>NaN</td>\n",
       "    </tr>\n",
       "    <tr>\n",
       "      <th>416</th>\n",
       "      <td>7.177019</td>\n",
       "      <td>0.000000</td>\n",
       "      <td>1.386294</td>\n",
       "      <td>0.000000</td>\n",
       "      <td>0.000000</td>\n",
       "      <td>2.202765</td>\n",
       "      <td>NaN</td>\n",
       "    </tr>\n",
       "    <tr>\n",
       "      <th>417</th>\n",
       "      <td>7.177782</td>\n",
       "      <td>0.000000</td>\n",
       "      <td>1.386294</td>\n",
       "      <td>0.693147</td>\n",
       "      <td>0.693147</td>\n",
       "      <td>3.150952</td>\n",
       "      <td>NaN</td>\n",
       "    </tr>\n",
       "  </tbody>\n",
       "</table>\n",
       "<p>1309 rows × 7 columns</p>\n",
       "</div>"
      ],
      "text/plain": [
       "     PassengerId       Age    Pclass     Parch     SibSp      Fare  label\n",
       "0       0.693147  3.135494  1.386294  0.000000  0.693147  2.110213    0.0\n",
       "1       1.098612  3.663562  0.693147  0.000000  0.693147  4.280593    1.0\n",
       "2       1.386294  3.295837  1.386294  0.000000  0.000000  2.188856    1.0\n",
       "3       1.609438  3.583519  0.693147  0.000000  0.693147  3.990834    1.0\n",
       "4       1.791759  3.583519  1.386294  0.000000  0.000000  2.202765    0.0\n",
       "..           ...       ...       ...       ...       ...       ...    ...\n",
       "413     7.174724  0.000000  1.386294  0.000000  0.000000  2.202765    NaN\n",
       "414     7.175490  3.688879  0.693147  0.000000  0.000000  4.699571    NaN\n",
       "415     7.176255  3.676301  1.386294  0.000000  0.000000  2.110213    NaN\n",
       "416     7.177019  0.000000  1.386294  0.000000  0.000000  2.202765    NaN\n",
       "417     7.177782  0.000000  1.386294  0.693147  0.693147  3.150952    NaN\n",
       "\n",
       "[1309 rows x 7 columns]"
      ]
     },
     "execution_count": 28,
     "metadata": {},
     "output_type": "execute_result"
    }
   ],
   "source": [
    "total_data"
   ]
  },
  {
   "cell_type": "code",
   "execution_count": 22,
   "metadata": {
    "ExecuteTime": {
     "end_time": "2020-09-09T09:43:49.048013Z",
     "start_time": "2020-09-09T09:43:49.040201Z"
    }
   },
   "outputs": [],
   "source": [
    "test_data = total_data[total_data[\"label\"].isna()]\n",
    "train_data = total_data[total_data[\"label\"].notna()]\n",
    "\n",
    "# train_data = train_data.loc[:750 - 1] # 闭区间\n",
    "# valid_data = train_data.loc[750:]\n",
    "\n",
    "train_label = [train_data['label'].values]\n",
    "train_dense_x = [train_data[f].values for f in dense_feature]\n",
    "\n",
    "# val_dense_x = [valid_data[f].values for f in dense_feature]\n",
    "# val_label = [valid_data['label'].values]"
   ]
  },
  {
   "cell_type": "code",
   "execution_count": 53,
   "metadata": {
    "ExecuteTime": {
     "end_time": "2020-09-09T10:10:05.107446Z",
     "start_time": "2020-09-09T10:10:04.353134Z"
    }
   },
   "outputs": [
    {
     "name": "stdout",
     "output_type": "stream",
     "text": [
      "Epoch 1/100\n",
      "3/3 [==============================] - 0s 3ms/step - loss: 0.6047 - binary_crossentropy: 0.6047 - auc: 0.7132\n",
      "Epoch 2/100\n",
      "3/3 [==============================] - 0s 1ms/step - loss: 0.6053 - binary_crossentropy: 0.6053 - auc: 0.7106\n",
      "Epoch 3/100\n",
      "3/3 [==============================] - 0s 1ms/step - loss: 0.6053 - binary_crossentropy: 0.6053 - auc: 0.7086\n",
      "Epoch 4/100\n",
      "3/3 [==============================] - 0s 1ms/step - loss: 0.6046 - binary_crossentropy: 0.6046 - auc: 0.7112\n",
      "Epoch 5/100\n",
      "3/3 [==============================] - 0s 1ms/step - loss: 0.6056 - binary_crossentropy: 0.6056 - auc: 0.7099\n",
      "Epoch 6/100\n",
      "3/3 [==============================] - 0s 1ms/step - loss: 0.6043 - binary_crossentropy: 0.6043 - auc: 0.7117\n",
      "Epoch 7/100\n",
      "3/3 [==============================] - 0s 1ms/step - loss: 0.6043 - binary_crossentropy: 0.6043 - auc: 0.7127\n",
      "Epoch 8/100\n",
      "3/3 [==============================] - 0s 1ms/step - loss: 0.6047 - binary_crossentropy: 0.6047 - auc: 0.7103\n",
      "Epoch 9/100\n",
      "3/3 [==============================] - 0s 1ms/step - loss: 0.6041 - binary_crossentropy: 0.6041 - auc: 0.7140\n",
      "Epoch 10/100\n",
      "3/3 [==============================] - 0s 1ms/step - loss: 0.6042 - binary_crossentropy: 0.6042 - auc: 0.7130\n",
      "Epoch 11/100\n",
      "3/3 [==============================] - 0s 1ms/step - loss: 0.6045 - binary_crossentropy: 0.6045 - auc: 0.7114\n",
      "Epoch 12/100\n",
      "3/3 [==============================] - 0s 1ms/step - loss: 0.6043 - binary_crossentropy: 0.6043 - auc: 0.7128\n",
      "Epoch 13/100\n",
      "3/3 [==============================] - 0s 1ms/step - loss: 0.6043 - binary_crossentropy: 0.6043 - auc: 0.7124\n",
      "Epoch 14/100\n",
      "3/3 [==============================] - 0s 1ms/step - loss: 0.6052 - binary_crossentropy: 0.6052 - auc: 0.7113\n",
      "Epoch 15/100\n",
      "3/3 [==============================] - 0s 1ms/step - loss: 0.6041 - binary_crossentropy: 0.6041 - auc: 0.7131\n",
      "Epoch 16/100\n",
      "3/3 [==============================] - 0s 1ms/step - loss: 0.6042 - binary_crossentropy: 0.6042 - auc: 0.7130\n",
      "Epoch 17/100\n",
      "3/3 [==============================] - 0s 1ms/step - loss: 0.6042 - binary_crossentropy: 0.6042 - auc: 0.7127\n",
      "Epoch 18/100\n",
      "3/3 [==============================] - 0s 1ms/step - loss: 0.6043 - binary_crossentropy: 0.6043 - auc: 0.7121\n",
      "Epoch 19/100\n",
      "3/3 [==============================] - 0s 1ms/step - loss: 0.6040 - binary_crossentropy: 0.6040 - auc: 0.7131\n",
      "Epoch 20/100\n",
      "3/3 [==============================] - 0s 1ms/step - loss: 0.6042 - binary_crossentropy: 0.6042 - auc: 0.7127\n",
      "Epoch 21/100\n",
      "3/3 [==============================] - 0s 1ms/step - loss: 0.6043 - binary_crossentropy: 0.6043 - auc: 0.7120\n",
      "Epoch 22/100\n",
      "3/3 [==============================] - 0s 1ms/step - loss: 0.6043 - binary_crossentropy: 0.6043 - auc: 0.7125\n",
      "Epoch 23/100\n",
      "3/3 [==============================] - 0s 1ms/step - loss: 0.6041 - binary_crossentropy: 0.6041 - auc: 0.7131\n",
      "Epoch 24/100\n",
      "3/3 [==============================] - 0s 1ms/step - loss: 0.6041 - binary_crossentropy: 0.6041 - auc: 0.7126\n",
      "Epoch 25/100\n",
      "3/3 [==============================] - 0s 1ms/step - loss: 0.6043 - binary_crossentropy: 0.6043 - auc: 0.7124\n",
      "Epoch 26/100\n",
      "3/3 [==============================] - 0s 1ms/step - loss: 0.6048 - binary_crossentropy: 0.6048 - auc: 0.7115\n",
      "Epoch 27/100\n",
      "3/3 [==============================] - 0s 2ms/step - loss: 0.6040 - binary_crossentropy: 0.6040 - auc: 0.7129\n",
      "Epoch 28/100\n",
      "3/3 [==============================] - 0s 1ms/step - loss: 0.6044 - binary_crossentropy: 0.6044 - auc: 0.7118\n",
      "Epoch 29/100\n",
      "3/3 [==============================] - 0s 1ms/step - loss: 0.6042 - binary_crossentropy: 0.6042 - auc: 0.7121\n",
      "Epoch 30/100\n",
      "3/3 [==============================] - 0s 1ms/step - loss: 0.6041 - binary_crossentropy: 0.6041 - auc: 0.7131\n",
      "Epoch 31/100\n",
      "3/3 [==============================] - 0s 1ms/step - loss: 0.6042 - binary_crossentropy: 0.6042 - auc: 0.7123\n",
      "Epoch 32/100\n",
      "3/3 [==============================] - 0s 1ms/step - loss: 0.6041 - binary_crossentropy: 0.6041 - auc: 0.7130\n",
      "Epoch 33/100\n",
      "3/3 [==============================] - 0s 1ms/step - loss: 0.6044 - binary_crossentropy: 0.6044 - auc: 0.7118\n",
      "Epoch 34/100\n",
      "3/3 [==============================] - 0s 1ms/step - loss: 0.6045 - binary_crossentropy: 0.6045 - auc: 0.7125\n",
      "Epoch 35/100\n",
      "3/3 [==============================] - 0s 1ms/step - loss: 0.6046 - binary_crossentropy: 0.6046 - auc: 0.7109\n",
      "Epoch 36/100\n",
      "3/3 [==============================] - 0s 1ms/step - loss: 0.6040 - binary_crossentropy: 0.6040 - auc: 0.7132\n",
      "Epoch 37/100\n",
      "3/3 [==============================] - 0s 1ms/step - loss: 0.6041 - binary_crossentropy: 0.6041 - auc: 0.7123\n",
      "Epoch 38/100\n",
      "3/3 [==============================] - 0s 1ms/step - loss: 0.6050 - binary_crossentropy: 0.6050 - auc: 0.7112\n",
      "Epoch 39/100\n",
      "3/3 [==============================] - 0s 1ms/step - loss: 0.6044 - binary_crossentropy: 0.6044 - auc: 0.7130\n",
      "Epoch 40/100\n",
      "3/3 [==============================] - 0s 1ms/step - loss: 0.6042 - binary_crossentropy: 0.6042 - auc: 0.7129\n",
      "Epoch 41/100\n",
      "3/3 [==============================] - 0s 2ms/step - loss: 0.6048 - binary_crossentropy: 0.6048 - auc: 0.7105\n",
      "Epoch 42/100\n",
      "3/3 [==============================] - 0s 1ms/step - loss: 0.6041 - binary_crossentropy: 0.6041 - auc: 0.7131\n",
      "Epoch 43/100\n",
      "3/3 [==============================] - 0s 1ms/step - loss: 0.6041 - binary_crossentropy: 0.6041 - auc: 0.7126\n",
      "Epoch 44/100\n",
      "3/3 [==============================] - 0s 1ms/step - loss: 0.6040 - binary_crossentropy: 0.6040 - auc: 0.7120\n",
      "Epoch 45/100\n",
      "3/3 [==============================] - 0s 1ms/step - loss: 0.6042 - binary_crossentropy: 0.6042 - auc: 0.7131\n",
      "Epoch 46/100\n",
      "3/3 [==============================] - 0s 1ms/step - loss: 0.6041 - binary_crossentropy: 0.6041 - auc: 0.7126\n",
      "Epoch 47/100\n",
      "3/3 [==============================] - 0s 2ms/step - loss: 0.6044 - binary_crossentropy: 0.6044 - auc: 0.7116\n",
      "Epoch 48/100\n",
      "3/3 [==============================] - 0s 2ms/step - loss: 0.6044 - binary_crossentropy: 0.6044 - auc: 0.7118\n",
      "Epoch 49/100\n",
      "3/3 [==============================] - 0s 2ms/step - loss: 0.6042 - binary_crossentropy: 0.6042 - auc: 0.7132\n",
      "Epoch 50/100\n",
      "3/3 [==============================] - 0s 2ms/step - loss: 0.6048 - binary_crossentropy: 0.6048 - auc: 0.7110\n",
      "Epoch 51/100\n",
      "3/3 [==============================] - ETA: 0s - loss: 0.6244 - binary_crossentropy: 0.6244 - auc: 0.721 - 0s 2ms/step - loss: 0.6047 - binary_crossentropy: 0.6047 - auc: 0.7113\n",
      "Epoch 52/100\n",
      "3/3 [==============================] - 0s 1ms/step - loss: 0.6043 - binary_crossentropy: 0.6043 - auc: 0.7122\n",
      "Epoch 53/100\n",
      "3/3 [==============================] - 0s 2ms/step - loss: 0.6042 - binary_crossentropy: 0.6042 - auc: 0.7127\n",
      "Epoch 54/100\n",
      "3/3 [==============================] - 0s 2ms/step - loss: 0.6042 - binary_crossentropy: 0.6042 - auc: 0.7123\n",
      "Epoch 55/100\n",
      "3/3 [==============================] - 0s 1ms/step - loss: 0.6043 - binary_crossentropy: 0.6043 - auc: 0.7130\n",
      "Epoch 56/100\n",
      "3/3 [==============================] - 0s 1ms/step - loss: 0.6043 - binary_crossentropy: 0.6043 - auc: 0.7126\n",
      "Epoch 57/100\n",
      "3/3 [==============================] - 0s 1ms/step - loss: 0.6044 - binary_crossentropy: 0.6044 - auc: 0.7109\n",
      "Epoch 58/100\n",
      "3/3 [==============================] - 0s 963us/step - loss: 0.6042 - binary_crossentropy: 0.6042 - auc: 0.7123\n",
      "Epoch 59/100\n",
      "3/3 [==============================] - 0s 1ms/step - loss: 0.6042 - binary_crossentropy: 0.6042 - auc: 0.7133\n",
      "Epoch 60/100\n",
      "3/3 [==============================] - 0s 991us/step - loss: 0.6041 - binary_crossentropy: 0.6041 - auc: 0.7133\n",
      "Epoch 61/100\n",
      "3/3 [==============================] - 0s 1ms/step - loss: 0.6041 - binary_crossentropy: 0.6041 - auc: 0.7115\n",
      "Epoch 62/100\n",
      "3/3 [==============================] - 0s 1ms/step - loss: 0.6042 - binary_crossentropy: 0.6042 - auc: 0.7116\n",
      "Epoch 63/100\n",
      "3/3 [==============================] - 0s 1ms/step - loss: 0.6047 - binary_crossentropy: 0.6047 - auc: 0.7113\n",
      "Epoch 64/100\n",
      "3/3 [==============================] - 0s 1ms/step - loss: 0.6043 - binary_crossentropy: 0.6043 - auc: 0.7119\n",
      "Epoch 65/100\n",
      "3/3 [==============================] - 0s 1ms/step - loss: 0.6042 - binary_crossentropy: 0.6042 - auc: 0.7123\n",
      "Epoch 66/100\n",
      "3/3 [==============================] - 0s 1ms/step - loss: 0.6043 - binary_crossentropy: 0.6043 - auc: 0.7122\n",
      "Epoch 67/100\n"
     ]
    },
    {
     "name": "stdout",
     "output_type": "stream",
     "text": [
      "3/3 [==============================] - 0s 1ms/step - loss: 0.6042 - binary_crossentropy: 0.6042 - auc: 0.7126\n",
      "Epoch 68/100\n",
      "3/3 [==============================] - 0s 1ms/step - loss: 0.6044 - binary_crossentropy: 0.6044 - auc: 0.7125\n",
      "Epoch 69/100\n",
      "3/3 [==============================] - 0s 1ms/step - loss: 0.6043 - binary_crossentropy: 0.6043 - auc: 0.7124\n",
      "Epoch 70/100\n",
      "3/3 [==============================] - 0s 1ms/step - loss: 0.6041 - binary_crossentropy: 0.6041 - auc: 0.7121\n",
      "Epoch 71/100\n",
      "3/3 [==============================] - 0s 1ms/step - loss: 0.6045 - binary_crossentropy: 0.6045 - auc: 0.7113\n",
      "Epoch 72/100\n",
      "3/3 [==============================] - 0s 1ms/step - loss: 0.6041 - binary_crossentropy: 0.6041 - auc: 0.7128\n",
      "Epoch 73/100\n",
      "3/3 [==============================] - 0s 981us/step - loss: 0.6043 - binary_crossentropy: 0.6043 - auc: 0.7127\n",
      "Epoch 74/100\n",
      "3/3 [==============================] - 0s 1ms/step - loss: 0.6042 - binary_crossentropy: 0.6042 - auc: 0.7122\n",
      "Epoch 75/100\n",
      "3/3 [==============================] - 0s 1ms/step - loss: 0.6050 - binary_crossentropy: 0.6050 - auc: 0.7109\n",
      "Epoch 76/100\n",
      "3/3 [==============================] - 0s 1ms/step - loss: 0.6040 - binary_crossentropy: 0.6040 - auc: 0.7135\n",
      "Epoch 77/100\n",
      "3/3 [==============================] - 0s 1ms/step - loss: 0.6044 - binary_crossentropy: 0.6044 - auc: 0.7121\n",
      "Epoch 78/100\n",
      "3/3 [==============================] - 0s 1ms/step - loss: 0.6045 - binary_crossentropy: 0.6045 - auc: 0.7109\n",
      "Epoch 79/100\n",
      "3/3 [==============================] - 0s 999us/step - loss: 0.6041 - binary_crossentropy: 0.6041 - auc: 0.7125\n",
      "Epoch 80/100\n",
      "3/3 [==============================] - 0s 1ms/step - loss: 0.6040 - binary_crossentropy: 0.6040 - auc: 0.7128\n",
      "Epoch 81/100\n",
      "3/3 [==============================] - 0s 1ms/step - loss: 0.6046 - binary_crossentropy: 0.6046 - auc: 0.7115\n",
      "Epoch 82/100\n",
      "3/3 [==============================] - 0s 1ms/step - loss: 0.6042 - binary_crossentropy: 0.6042 - auc: 0.7120\n",
      "Epoch 83/100\n",
      "3/3 [==============================] - 0s 1ms/step - loss: 0.6045 - binary_crossentropy: 0.6045 - auc: 0.7118\n",
      "Epoch 84/100\n",
      "3/3 [==============================] - 0s 1ms/step - loss: 0.6049 - binary_crossentropy: 0.6049 - auc: 0.7098\n",
      "Epoch 85/100\n",
      "3/3 [==============================] - 0s 1ms/step - loss: 0.6046 - binary_crossentropy: 0.6046 - auc: 0.7123\n",
      "Epoch 86/100\n",
      "3/3 [==============================] - 0s 1ms/step - loss: 0.6042 - binary_crossentropy: 0.6042 - auc: 0.7133\n",
      "Epoch 87/100\n",
      "3/3 [==============================] - 0s 1ms/step - loss: 0.6042 - binary_crossentropy: 0.6042 - auc: 0.7135\n",
      "Epoch 88/100\n",
      "3/3 [==============================] - 0s 1ms/step - loss: 0.6050 - binary_crossentropy: 0.6050 - auc: 0.7122\n",
      "Epoch 89/100\n",
      "3/3 [==============================] - 0s 1ms/step - loss: 0.6041 - binary_crossentropy: 0.6041 - auc: 0.7129\n",
      "Epoch 90/100\n",
      "3/3 [==============================] - 0s 1ms/step - loss: 0.6041 - binary_crossentropy: 0.6041 - auc: 0.7129\n",
      "Epoch 91/100\n",
      "3/3 [==============================] - 0s 1ms/step - loss: 0.6043 - binary_crossentropy: 0.6043 - auc: 0.7122\n",
      "Epoch 92/100\n",
      "3/3 [==============================] - 0s 1ms/step - loss: 0.6052 - binary_crossentropy: 0.6052 - auc: 0.7113\n",
      "Epoch 93/100\n",
      "3/3 [==============================] - 0s 1ms/step - loss: 0.6043 - binary_crossentropy: 0.6043 - auc: 0.7129\n",
      "Epoch 94/100\n",
      "3/3 [==============================] - 0s 1ms/step - loss: 0.6044 - binary_crossentropy: 0.6044 - auc: 0.7115\n",
      "Epoch 95/100\n",
      "3/3 [==============================] - 0s 1ms/step - loss: 0.6042 - binary_crossentropy: 0.6042 - auc: 0.7121\n",
      "Epoch 96/100\n",
      "3/3 [==============================] - 0s 1ms/step - loss: 0.6044 - binary_crossentropy: 0.6044 - auc: 0.7126\n",
      "Epoch 97/100\n",
      "3/3 [==============================] - 0s 1ms/step - loss: 0.6041 - binary_crossentropy: 0.6041 - auc: 0.7130\n",
      "Epoch 98/100\n",
      "3/3 [==============================] - 0s 1ms/step - loss: 0.6051 - binary_crossentropy: 0.6051 - auc: 0.7106\n",
      "Epoch 99/100\n",
      "3/3 [==============================] - 0s 1ms/step - loss: 0.6044 - binary_crossentropy: 0.6044 - auc: 0.7116\n",
      "Epoch 100/100\n",
      "3/3 [==============================] - 0s 1ms/step - loss: 0.6040 - binary_crossentropy: 0.6040 - auc: 0.7129\n"
     ]
    },
    {
     "data": {
      "text/plain": [
       "<tensorflow.python.keras.callbacks.History at 0x7ff9a4afd990>"
      ]
     },
     "execution_count": 53,
     "metadata": {},
     "output_type": "execute_result"
    }
   ],
   "source": [
    "logistic_regression.fit(train_dense_x, \n",
    "          train_label, epochs=100, batch_size=256,\n",
    "#           validation_data=(val_dense_x, val_label),  # data is too small\n",
    "          callbacks=[tbCallBack])"
   ]
  },
  {
   "cell_type": "code",
   "execution_count": 51,
   "metadata": {
    "ExecuteTime": {
     "end_time": "2020-09-09T10:05:12.924981Z",
     "start_time": "2020-09-09T10:05:12.881346Z"
    }
   },
   "outputs": [
    {
     "ename": "TypeError",
     "evalue": "argmax_v2() got an unexpected keyword argument 'dimension'",
     "output_type": "error",
     "traceback": [
      "\u001b[0;31m---------------------------------------------------------------------------\u001b[0m",
      "\u001b[0;31mTypeError\u001b[0m                                 Traceback (most recent call last)",
      "\u001b[0;32m<ipython-input-51-501cee2b7f29>\u001b[0m in \u001b[0;36m<module>\u001b[0;34m\u001b[0m\n\u001b[1;32m      1\u001b[0m \u001b[0mtest_dense_x\u001b[0m \u001b[0;34m=\u001b[0m \u001b[0;34m[\u001b[0m\u001b[0mtest_data\u001b[0m\u001b[0;34m[\u001b[0m\u001b[0mf\u001b[0m\u001b[0;34m]\u001b[0m\u001b[0;34m.\u001b[0m\u001b[0mvalues\u001b[0m \u001b[0;32mfor\u001b[0m \u001b[0mf\u001b[0m \u001b[0;32min\u001b[0m \u001b[0mdense_feature\u001b[0m\u001b[0;34m]\u001b[0m\u001b[0;34m\u001b[0m\u001b[0;34m\u001b[0m\u001b[0m\n\u001b[1;32m      2\u001b[0m \u001b[0mpred\u001b[0m \u001b[0;34m=\u001b[0m \u001b[0mlogistic_regression\u001b[0m\u001b[0;34m.\u001b[0m\u001b[0mpredict\u001b[0m\u001b[0;34m(\u001b[0m\u001b[0mtest_dense_x\u001b[0m\u001b[0;34m)\u001b[0m\u001b[0;34m\u001b[0m\u001b[0;34m\u001b[0m\u001b[0m\n\u001b[0;32m----> 3\u001b[0;31m \u001b[0mtf\u001b[0m\u001b[0;34m.\u001b[0m\u001b[0margmax\u001b[0m\u001b[0;34m(\u001b[0m\u001b[0mpred\u001b[0m\u001b[0;34m,\u001b[0m \u001b[0mdimension\u001b[0m\u001b[0;34m=\u001b[0m\u001b[0;36m1\u001b[0m\u001b[0;34m)\u001b[0m\u001b[0;34m\u001b[0m\u001b[0;34m\u001b[0m\u001b[0m\n\u001b[0m\u001b[1;32m      4\u001b[0m \u001b[0;31m# pred\u001b[0m\u001b[0;34m\u001b[0m\u001b[0;34m\u001b[0m\u001b[0;34m\u001b[0m\u001b[0m\n",
      "\u001b[0;31mTypeError\u001b[0m: argmax_v2() got an unexpected keyword argument 'dimension'"
     ]
    }
   ],
   "source": [
    "test_dense_x = [test_data[f].values for f in dense_feature]\n",
    "pred = logistic_regression.predict(test_dense_x)\n",
    "tf.argmax(pred, dimension=1)\n",
    "# pred"
   ]
  },
  {
   "cell_type": "code",
   "execution_count": 43,
   "metadata": {
    "ExecuteTime": {
     "end_time": "2020-09-09T09:58:23.145198Z",
     "start_time": "2020-09-09T09:58:23.141983Z"
    }
   },
   "outputs": [],
   "source": [
    "y_pred = [ 1 if i[0] > 0.5 else 0 for i in pred ]"
   ]
  },
  {
   "cell_type": "code",
   "execution_count": 98,
   "metadata": {
    "ExecuteTime": {
     "end_time": "2020-09-09T09:24:03.491527Z",
     "start_time": "2020-09-09T09:24:03.485447Z"
    }
   },
   "outputs": [
    {
     "name": "stdout",
     "output_type": "stream",
     "text": [
      "     Survived\n",
      "0           0\n",
      "1           0\n",
      "2           0\n",
      "3           0\n",
      "4           0\n",
      "..        ...\n",
      "413         0\n",
      "414         1\n",
      "415         0\n",
      "416         0\n",
      "417         0\n",
      "\n",
      "[418 rows x 1 columns]\n"
     ]
    }
   ],
   "source": [
    "y_pred\n",
    "\n",
    "from pandas.core.frame import DataFrame\n",
    "c = {\"Survived\":y_pred #,'b':b\n",
    "    }  #将列表a，b装换成字典\n",
    " \n",
    "pd_y = DataFrame(c)\n",
    "print(pd_y)"
   ]
  },
  {
   "cell_type": "code",
   "execution_count": 100,
   "metadata": {
    "ExecuteTime": {
     "end_time": "2020-09-09T09:24:30.999095Z",
     "start_time": "2020-09-09T09:24:30.988450Z"
    }
   },
   "outputs": [],
   "source": [
    "submission = pd.concat([test_data['PassengerId'], pd_y], axis=1)\n",
    "submission.to_csv('submission.csv', header=True, index=False)"
   ]
  },
  {
   "cell_type": "code",
   "execution_count": 101,
   "metadata": {
    "ExecuteTime": {
     "end_time": "2020-09-09T09:24:46.708480Z",
     "start_time": "2020-09-09T09:24:41.219741Z"
    }
   },
   "outputs": [
    {
     "name": "stdout",
     "output_type": "stream",
     "text": [
      "Looking in indexes: https://mirrors.163.com/pypi/simple/\n",
      "Collecting kaggle\n",
      "  Downloading https://mirrors.163.com/pypi/packages/62/ab/bb20f9b9e24f9a6250f95a432f8d9a7d745f8d24039d7a5a6eaadb7783ba/kaggle-1.5.6.tar.gz (58 kB)\n",
      "\u001b[K     |████████████████████████████████| 58 kB 846 kB/s eta 0:00:011\n",
      "\u001b[?25hCollecting urllib3<1.25,>=1.21.1\n",
      "  Downloading https://mirrors.163.com/pypi/packages/01/11/525b02e4acc0c747de8b6ccdab376331597c569c42ea66ab0a1dbd36eca2/urllib3-1.24.3-py2.py3-none-any.whl (118 kB)\n",
      "\u001b[K     |████████████████████████████████| 118 kB 1.9 MB/s eta 0:00:01\n",
      "\u001b[?25hRequirement already satisfied: six>=1.10 in /home/yons/.pyenv/versions/3.7.4/envs/py37/lib/python3.7/site-packages (from kaggle) (1.14.0)\n",
      "Requirement already satisfied: certifi in /home/yons/.pyenv/versions/3.7.4/envs/py37/lib/python3.7/site-packages (from kaggle) (2020.4.5.1)\n",
      "Requirement already satisfied: python-dateutil in /home/yons/.pyenv/versions/3.7.4/envs/py37/lib/python3.7/site-packages (from kaggle) (2.8.1)\n",
      "Requirement already satisfied: requests in /home/yons/.pyenv/versions/3.7.4/envs/py37/lib/python3.7/site-packages (from kaggle) (2.23.0)\n",
      "Requirement already satisfied: tqdm in /home/yons/.pyenv/versions/3.7.4/envs/py37/lib/python3.7/site-packages (from kaggle) (4.46.0)\n",
      "Collecting python-slugify\n",
      "  Downloading https://mirrors.163.com/pypi/packages/92/5f/7b84a0bba8a0fdd50c046f8b57dcf179dc16237ad33446079b7c484de04c/python-slugify-4.0.0.tar.gz (8.8 kB)\n",
      "Requirement already satisfied: idna<3,>=2.5 in /home/yons/.pyenv/versions/3.7.4/envs/py37/lib/python3.7/site-packages (from requests->kaggle) (2.9)\n",
      "Requirement already satisfied: chardet<4,>=3.0.2 in /home/yons/.pyenv/versions/3.7.4/envs/py37/lib/python3.7/site-packages (from requests->kaggle) (3.0.4)\n",
      "Collecting text-unidecode>=1.3\n",
      "  Downloading https://mirrors.163.com/pypi/packages/a6/a5/c0b6468d3824fe3fde30dbb5e1f687b291608f9473681bbf7dabbf5a87d7/text_unidecode-1.3-py2.py3-none-any.whl (78 kB)\n",
      "\u001b[K     |████████████████████████████████| 78 kB 2.2 MB/s eta 0:00:011\n",
      "\u001b[?25hBuilding wheels for collected packages: kaggle, python-slugify\n",
      "  Building wheel for kaggle (setup.py) ... \u001b[?25ldone\n",
      "\u001b[?25h  Created wheel for kaggle: filename=kaggle-1.5.6-py3-none-any.whl size=72859 sha256=dd02dd3bcf7dfa31ba56956636bd17117d046e8cdae5f281169bd5f721d68236\n",
      "  Stored in directory: /home/yons/.cache/pip/wheels/2f/82/61/8095af053566f573658b433d979c3f612e0ec04c2595338435\n",
      "  Building wheel for python-slugify (setup.py) ... \u001b[?25ldone\n",
      "\u001b[?25h  Created wheel for python-slugify: filename=python_slugify-4.0.0-py2.py3-none-any.whl size=5486 sha256=0fb8ab434f6f0064858bd0f8de48989bce7ddb22e492e72546f6635acc3c2f93\n",
      "  Stored in directory: /home/yons/.cache/pip/wheels/88/cd/f7/ee794790a8ddc167f37867ff2bbc0e7ec0c2911945bd6f3b97\n",
      "Successfully built kaggle python-slugify\n",
      "Installing collected packages: urllib3, text-unidecode, python-slugify, kaggle\n",
      "  Attempting uninstall: urllib3\n",
      "    Found existing installation: urllib3 1.25.9\n",
      "    Uninstalling urllib3-1.25.9:\n",
      "      Successfully uninstalled urllib3-1.25.9\n",
      "Successfully installed kaggle-1.5.6 python-slugify-4.0.0 text-unidecode-1.3 urllib3-1.24.3\n"
     ]
    }
   ],
   "source": [
    "! pip install kaggle"
   ]
  },
  {
   "cell_type": "code",
   "execution_count": 102,
   "metadata": {
    "ExecuteTime": {
     "end_time": "2020-09-09T09:24:48.564794Z",
     "start_time": "2020-09-09T09:24:48.091677Z"
    }
   },
   "outputs": [
    {
     "name": "stdout",
     "output_type": "stream",
     "text": [
      "Traceback (most recent call last):\r\n",
      "  File \"/home/yons/.pyenv/versions/py37/bin/kaggle\", line 5, in <module>\r\n",
      "    from kaggle.cli import main\r\n",
      "  File \"/home/yons/.pyenv/versions/3.7.4/envs/py37/lib/python3.7/site-packages/kaggle/__init__.py\", line 23, in <module>\r\n",
      "    api.authenticate()\r\n",
      "  File \"/home/yons/.pyenv/versions/3.7.4/envs/py37/lib/python3.7/site-packages/kaggle/api/kaggle_api_extended.py\", line 149, in authenticate\r\n",
      "    self.config_file, self.config_dir))\r\n",
      "OSError: Could not find kaggle.json. Make sure it's located in /home/yons/.kaggle. Or use the environment method.\r\n"
     ]
    }
   ],
   "source": [
    "!kaggle competitions submit -c titanic -f submission.csv -m \"tensorflow fm\""
   ]
  },
  {
   "cell_type": "code",
   "execution_count": null,
   "metadata": {},
   "outputs": [],
   "source": []
  }
 ],
 "metadata": {
  "kernelspec": {
   "display_name": "Python 3",
   "language": "python",
   "name": "python3"
  },
  "language_info": {
   "codemirror_mode": {
    "name": "ipython",
    "version": 3
   },
   "file_extension": ".py",
   "mimetype": "text/x-python",
   "name": "python",
   "nbconvert_exporter": "python",
   "pygments_lexer": "ipython3",
   "version": "3.7.4"
  },
  "toc": {
   "base_numbering": 1,
   "nav_menu": {},
   "number_sections": true,
   "sideBar": true,
   "skip_h1_title": false,
   "title_cell": "Table of Contents",
   "title_sidebar": "Contents",
   "toc_cell": false,
   "toc_position": {},
   "toc_section_display": true,
   "toc_window_display": false
  },
  "varInspector": {
   "cols": {
    "lenName": 16,
    "lenType": 16,
    "lenVar": 40
   },
   "kernels_config": {
    "python": {
     "delete_cmd_postfix": "",
     "delete_cmd_prefix": "del ",
     "library": "var_list.py",
     "varRefreshCmd": "print(var_dic_list())"
    },
    "r": {
     "delete_cmd_postfix": ") ",
     "delete_cmd_prefix": "rm(",
     "library": "var_list.r",
     "varRefreshCmd": "cat(var_dic_list()) "
    }
   },
   "types_to_exclude": [
    "module",
    "function",
    "builtin_function_or_method",
    "instance",
    "_Feature"
   ],
   "window_display": false
  }
 },
 "nbformat": 4,
 "nbformat_minor": 4
}
